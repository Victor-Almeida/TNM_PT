{
  "nbformat": 4,
  "nbformat_minor": 0,
  "metadata": {
    "colab": {
      "name": "Tradução Neural de Máquina com Tensorflow 2.ipynb",
      "provenance": [],
      "collapsed_sections": [],
      "toc_visible": true
    },
    "kernelspec": {
      "display_name": "Python 3",
      "name": "python3"
    },
    "accelerator": "GPU"
  },
  "cells": [
    {
      "cell_type": "markdown",
      "metadata": {
        "id": "TW094fZ7hjMN"
      },
      "source": [
        "# Tradução Neural de Máquina Inglês para Português com Tensorflow 2\n",
        "\n",
        "### Por João Victor Almeida - Universidade Federal Fluminense"
      ]
    },
    {
      "cell_type": "markdown",
      "metadata": {
        "id": "LB-xW0klUXOn"
      },
      "source": [
        "## Sobre a base de dados Europarl\n",
        "\n",
        "#### A base Europarl é um compilado de transcrições de sessões do parlamento europeu entre 1996 e 2011 disponível em 21 línguas europeias.\n",
        "\n",
        "#### Mais informações sobre a base podem ser encontradas em http://www.statmt.org/europarl/\n",
        "\n",
        "#### Outras bases podem ser encontradas em http://matrix.statmt.org/test_sets/list"
      ]
    },
    {
      "cell_type": "markdown",
      "metadata": {
        "id": "Mk3iDpWxHkBw"
      },
      "source": [
        "## Bibliotecas necessárias"
      ]
    },
    {
      "cell_type": "code",
      "metadata": {
        "id": "eZmJQVUrKREF"
      },
      "source": [
        "import numpy as np\n",
        "import tensorflow as tf\n",
        "import tensorflow_addons as tfa\n",
        "import matplotlib.pyplot as plt\n",
        "import matplotlib.ticker as ticker\n",
        "\n",
        "from tqdm import tqdm\n",
        "from collections import Counter\n",
        "from sklearn.model_selection import train_test_split\n",
        "\n",
        "import re\n",
        "import os\n",
        "import time\n",
        "import json\n",
        "import math\n",
        "import tarfile\n",
        "import unicodedata"
      ],
      "execution_count": null,
      "outputs": []
    },
    {
      "cell_type": "markdown",
      "metadata": {
        "id": "ON45TewxL6gm"
      },
      "source": [
        "## Download e extração da base de dados"
      ]
    },
    {
      "cell_type": "markdown",
      "metadata": {
        "id": "fzs32eOqjOKn"
      },
      "source": [
        "### Acessando o Google Drive a partir do Colab\n",
        "\n",
        "#### Observações :\n",
        "##### 1 - O caminho '/content/gdrive/My\\ Drive/' é em inglês e padrão, independentemente da língua em que seu Google Drive está.\n",
        "\n",
        "##### 2 - A parte do caminho 'TCC/Europarl/' é pessoal. Você pode usar a pasta que quiser.\n",
        "\n",
        "##### 3 - Para usar o comando wget é necessário colocar '\\\\' antes de qualquer espaço."
      ]
    },
    {
      "cell_type": "code",
      "metadata": {
        "id": "LwaP4gJr9bNv",
        "colab": {
          "base_uri": "https://localhost:8080/"
        },
        "outputId": "9af23811-7978-415f-8561-4e8d2031379c"
      },
      "source": [
        "from google.colab import drive\n",
        "\n",
        "drive.mount('/content/gdrive/')\n",
        "raiz = '/content/gdrive/My\\ Drive/TCC/Europarl/'"
      ],
      "execution_count": null,
      "outputs": [
        {
          "output_type": "stream",
          "text": [
            "Mounted at /content/gdrive/\n"
          ],
          "name": "stdout"
        }
      ]
    },
    {
      "cell_type": "markdown",
      "metadata": {
        "id": "8BX7qjhhv-9_"
      },
      "source": [
        "### Baixando a base de dados Europarl PT-EN pro Google Drive"
      ]
    },
    {
      "cell_type": "code",
      "metadata": {
        "id": "yEZp9c8DwWoS",
        "colab": {
          "base_uri": "https://localhost:8080/"
        },
        "outputId": "58487d61-1906-4e9e-a353-cde86a37a295"
      },
      "source": [
        "!wget 'http://www.statmt.org/europarl/v7/pt-en.tgz' -P $raiz"
      ],
      "execution_count": null,
      "outputs": [
        {
          "output_type": "stream",
          "text": [
            "--2020-11-08 02:54:55--  http://www.statmt.org/europarl/v7/pt-en.tgz\n",
            "Resolving www.statmt.org (www.statmt.org)... 129.215.197.184\n",
            "Connecting to www.statmt.org (www.statmt.org)|129.215.197.184|:80... connected.\n",
            "HTTP request sent, awaiting response... 200 OK\n",
            "Length: 197738765 (189M) [application/x-gzip]\n",
            "Saving to: ‘/content/gdrive/My Drive/TCC/Europarl/pt-en.tgz’\n",
            "\n",
            "pt-en.tgz           100%[===================>] 188.58M   584KB/s    in 13m 36s \n",
            "\n",
            "2020-11-08 03:08:31 (237 KB/s) - ‘/content/gdrive/My Drive/TCC/Europarl/pt-en.tgz’ saved [197738765/197738765]\n",
            "\n"
          ],
          "name": "stdout"
        }
      ]
    },
    {
      "cell_type": "markdown",
      "metadata": {
        "id": "7kJW12ciHnR8"
      },
      "source": [
        "### Extraindo os arquivos"
      ]
    },
    {
      "cell_type": "code",
      "metadata": {
        "id": "zb4GtrSlaC6E"
      },
      "source": [
        "raiz = '/content/gdrive/My Drive/TCC/Europarl/' # retirando o '\\' antes do espaço pois não será mais necessário"
      ],
      "execution_count": null,
      "outputs": []
    },
    {
      "cell_type": "code",
      "metadata": {
        "id": "hREqNYd94BUl"
      },
      "source": [
        "tgz = tarfile.open(raiz + 'pt-en.tgz', 'r')\n",
        "\n",
        "for arquivo in tgz:\n",
        "    tgz.extract(arquivo, raiz)"
      ],
      "execution_count": null,
      "outputs": []
    },
    {
      "cell_type": "markdown",
      "metadata": {
        "id": "PBNeofAuHrxm"
      },
      "source": [
        "### Listando os arquivos que compõem a base de dados"
      ]
    },
    {
      "cell_type": "code",
      "metadata": {
        "id": "4O6zDKVZHMGF",
        "colab": {
          "base_uri": "https://localhost:8080/"
        },
        "outputId": "2f8a4e68-c0a5-45d7-c017-1bbe26401cef"
      },
      "source": [
        "os.listdir(raiz)"
      ],
      "execution_count": null,
      "outputs": [
        {
          "output_type": "execute_result",
          "data": {
            "text/plain": [
              "['pt-en.tgz', 'europarl-v7.pt-en.en', 'europarl-v7.pt-en.pt']"
            ]
          },
          "metadata": {
            "tags": []
          },
          "execution_count": 34
        }
      ]
    },
    {
      "cell_type": "markdown",
      "metadata": {
        "id": "OCLBXBgGkElK"
      },
      "source": [
        "## Análise exploratória da base Europarl PT-EN"
      ]
    },
    {
      "cell_type": "markdown",
      "metadata": {
        "id": "o9OlP-GfKaW7"
      },
      "source": [
        "### Carregando os arquivos"
      ]
    },
    {
      "cell_type": "code",
      "metadata": {
        "id": "hCwv_wBY_z9t"
      },
      "source": [
        "europarl_pt = []\n",
        "with open(raiz + \"europarl-v7.pt-en.pt\", \"r\") as arquivo:\n",
        "    europarl_pt = [linha.strip() for linha in arquivo]\n",
        "\n",
        "europarl_en = []\n",
        "with open(raiz + \"europarl-v7.pt-en.en\", \"r\") as arquivo:\n",
        "    europarl_en = [linha.strip() for linha in arquivo]"
      ],
      "execution_count": null,
      "outputs": []
    },
    {
      "cell_type": "markdown",
      "metadata": {
        "id": "y6tWv475K1Bo"
      },
      "source": [
        "### Conferindo o número de linhas em cada arquivo"
      ]
    },
    {
      "cell_type": "code",
      "metadata": {
        "id": "qK7vMYOWrS11",
        "colab": {
          "base_uri": "https://localhost:8080/"
        },
        "outputId": "f7fc6ee2-4134-4e2e-c88d-40618a7422e4"
      },
      "source": [
        "print('Número total de linhas em português : ' + str(len(europarl_pt)))\n",
        "print('Número total de linhas em inglês : ' + str(len(europarl_en)))"
      ],
      "execution_count": null,
      "outputs": [
        {
          "output_type": "stream",
          "text": [
            "Número total de linhas em português : 1960407\n",
            "Número total de linhas em inglês : 1960407\n"
          ],
          "name": "stdout"
        }
      ]
    },
    {
      "cell_type": "markdown",
      "metadata": {
        "id": "wCyHjAAQKXWX"
      },
      "source": [
        "### Alguns trechos da base"
      ]
    },
    {
      "cell_type": "code",
      "metadata": {
        "id": "nZpuJ5gZuuZO",
        "colab": {
          "base_uri": "https://localhost:8080/"
        },
        "outputId": "97feca3f-980c-4292-bdbc-212459c3f451"
      },
      "source": [
        "print(europarl_pt[0])\n",
        "print(europarl_pt[1])\n",
        "print(europarl_pt[2])"
      ],
      "execution_count": null,
      "outputs": [
        {
          "output_type": "stream",
          "text": [
            "Reinício da sessão\n",
            "Declaro reaberta a sessão do Parlamento Europeu, que tinha sido interrompida na sexta-feira, 17 de Dezembro último, e renovo todos os meus votos, esperando que tenham tido boas férias.\n",
            "Como puderam constatar, o grande \"bug do ano 2000\" não aconteceu. Em contrapartida, os cidadãos de alguns dos nossos países foram vítimas de catástrofes naturais verdadeiramente terríveis.\n"
          ],
          "name": "stdout"
        }
      ]
    },
    {
      "cell_type": "code",
      "metadata": {
        "id": "x1E5QwXDu4gM",
        "colab": {
          "base_uri": "https://localhost:8080/"
        },
        "outputId": "49b07d3a-7121-4b09-fd6e-aeb9f0573542"
      },
      "source": [
        "print(europarl_en[0])\n",
        "print(europarl_en[1])\n",
        "print(europarl_en[2])"
      ],
      "execution_count": null,
      "outputs": [
        {
          "output_type": "stream",
          "text": [
            "Resumption of the session\n",
            "I declare resumed the session of the European Parliament adjourned on Friday 17 December 1999, and I would like once again to wish you a happy new year in the hope that you enjoyed a pleasant festive period.\n",
            "Although, as you will have seen, the dreaded 'millennium bug' failed to materialise, still the people in a number of countries suffered a series of natural disasters that truly were dreadful.\n"
          ],
          "name": "stdout"
        }
      ]
    },
    {
      "cell_type": "markdown",
      "metadata": {
        "id": "dCoPFEkVXiQq"
      },
      "source": [
        "### Contando a quantidade de ocorrências de cada palavra no vocabulário\n",
        "\n",
        "##### Tirado de : https://machinelearningmastery.com/prepare-french-english-dataset-machine-translation/"
      ]
    },
    {
      "cell_type": "markdown",
      "metadata": {
        "id": "JQubuOJ0YM01"
      },
      "source": [
        "#### Em português"
      ]
    },
    {
      "cell_type": "code",
      "metadata": {
        "id": "57-3e9cSXi7W",
        "colab": {
          "base_uri": "https://localhost:8080/"
        },
        "outputId": "03da6427-3f07-4f36-fccf-f2becfccdf6d"
      },
      "source": [
        "pbar = tqdm(total = len(europarl_pt))\n",
        "counter_vocabulario_pt = Counter()\n",
        "\n",
        "for linha in europarl_pt:\n",
        "    linha_com_pontuacao_espacada = linha.replace(',', ' , ').replace('.', ' . ').replace('!', ' ! ').replace('?', ' ? ').replace('  ', ' ').replace('   ', ' ')\n",
        "    counter_vocabulario_pt.update(linha_com_pontuacao_espacada.split(' '))\n",
        "    pbar.update(1)\n",
        "pbar.close()\n",
        "\n",
        "del(counter_vocabulario_pt[''])\n",
        "vocabulario_pt = [vocabulo for (vocabulo, cont) in counter_vocabulario_pt.items()]\n",
        "cont_vocabulario_pt = [cont for (vocabulo, cont) in counter_vocabulario_pt.items()]"
      ],
      "execution_count": null,
      "outputs": [
        {
          "output_type": "stream",
          "text": [
            "100%|██████████| 1960407/1960407 [00:25<00:00, 77741.85it/s]\n"
          ],
          "name": "stderr"
        }
      ]
    },
    {
      "cell_type": "markdown",
      "metadata": {
        "id": "FWK5O3lNbane"
      },
      "source": [
        "#### Em inglês"
      ]
    },
    {
      "cell_type": "code",
      "metadata": {
        "id": "Y-VIKCNBbcJu",
        "colab": {
          "base_uri": "https://localhost:8080/"
        },
        "outputId": "9dd299cc-9ab9-4a59-d72f-00f9ec822ca9"
      },
      "source": [
        "pbar = tqdm(total = len(europarl_en))\n",
        "counter_vocabulario_en = Counter()\n",
        "\n",
        "for linha in europarl_en:\n",
        "    linha_com_pontuacao_espacada = linha.replace(',', ' , ').replace('.', ' . ').replace('!', ' ! ').replace('?', ' ? ').replace('  ', ' ').replace('   ', ' ')\n",
        "    counter_vocabulario_en.update(linha_com_pontuacao_espacada.split(' '))\n",
        "    pbar.update(1)\n",
        "pbar.close()\n",
        "\n",
        "del(counter_vocabulario_en[''])\n",
        "vocabulario_en = [vocabulo for (vocabulo, cont) in counter_vocabulario_en.items()]\n",
        "cont_vocabulario_en = [cont for (vocabulo, cont) in counter_vocabulario_en.items()]"
      ],
      "execution_count": null,
      "outputs": [
        {
          "output_type": "stream",
          "text": [
            "100%|██████████| 1960407/1960407 [00:21<00:00, 90425.08it/s]\n"
          ],
          "name": "stderr"
        }
      ]
    },
    {
      "cell_type": "markdown",
      "metadata": {
        "id": "Fj4NNf7wedAQ"
      },
      "source": [
        "### Tamanho do vocabulário português"
      ]
    },
    {
      "cell_type": "code",
      "metadata": {
        "id": "5ScuCAZveglm",
        "colab": {
          "base_uri": "https://localhost:8080/"
        },
        "outputId": "286a4ef5-8fa4-49af-dfa2-efffbd01cea8"
      },
      "source": [
        "print(str(len(vocabulario_pt)) + \" vocábulos\")"
      ],
      "execution_count": null,
      "outputs": [
        {
          "output_type": "stream",
          "text": [
            "286945 vocábulos\n"
          ],
          "name": "stdout"
        }
      ]
    },
    {
      "cell_type": "markdown",
      "metadata": {
        "id": "LKhlWc4CesUu"
      },
      "source": [
        "### Tamanho do vocabulário inglês"
      ]
    },
    {
      "cell_type": "code",
      "metadata": {
        "id": "TbHnGtkdevxb",
        "colab": {
          "base_uri": "https://localhost:8080/"
        },
        "outputId": "9eb6953b-7826-4757-bd32-b116153d4487"
      },
      "source": [
        "print(str(len(vocabulario_en)) + \" vocábulos\")"
      ],
      "execution_count": null,
      "outputs": [
        {
          "output_type": "stream",
          "text": [
            "209071 vocábulos\n"
          ],
          "name": "stdout"
        }
      ]
    },
    {
      "cell_type": "markdown",
      "metadata": {
        "id": "d_EnIpDrbrOU"
      },
      "source": [
        "### 20 ocorrências mais comuns no vocabulário português"
      ]
    },
    {
      "cell_type": "code",
      "metadata": {
        "id": "0FJRzEURb0I-",
        "colab": {
          "base_uri": "https://localhost:8080/",
          "height": 405
        },
        "outputId": "e5bb85d2-ec23-4e8b-c500-ec249c11cf49"
      },
      "source": [
        "temp_vocab_pt = sorted(zip(cont_vocabulario_pt, vocabulario_pt), reverse=True)\n",
        "\n",
        "vocabulario_pt = [vocabulo for (cont, vocabulo) in temp_vocab_pt]\n",
        "cont_vocabulario_pt = [cont for (cont, vocabulo) in temp_vocab_pt]\n",
        "\n",
        "plt.figure(figsize=(10, 6))\n",
        "plt.barh([i for i in range(20)], [cont_vocabulario_pt[i] for i in range(20)], color='slategrey', height=0.5)\n",
        "plt.ylabel(\"Vocábulo\")\n",
        "plt.xlabel(\"Ocorrências por milhão\")\n",
        "plt.title(\"Vocábulos portugeses mais comuns\")\n",
        "plt.yticks([i for i in range(20)], [vocabulario_pt[i] for i in range(20)])\n",
        "\n",
        "plt.show()"
      ],
      "execution_count": null,
      "outputs": [
        {
          "output_type": "display_data",
          "data": {
            "image/png": "[encoded data removed]",
            "text/plain": [
              "<Figure size 720x432 with 1 Axes>"
            ]
          },
          "metadata": {
            "tags": []
          }
        }
      ]
    },
    {
      "cell_type": "markdown",
      "metadata": {
        "id": "xFPdBXlnb0Vb"
      },
      "source": [
        "### 20 palavras mais comuns no vocabulário inglês"
      ]
    },
    {
      "cell_type": "code",
      "metadata": {
        "id": "eGsL2LrYmDDs",
        "colab": {
          "base_uri": "https://localhost:8080/",
          "height": 405
        },
        "outputId": "2a7d4150-c705-4f8e-d819-330db13ddbf0"
      },
      "source": [
        "temp_vocab_en = sorted(zip(cont_vocabulario_en, vocabulario_en), reverse=True)\n",
        "\n",
        "vocabulario_en = [vocabulo for (cont, vocabulo) in temp_vocab_en]\n",
        "cont_vocabulario_en = [cont for (cont, vocabulo) in temp_vocab_en]\n",
        "\n",
        "plt.figure(figsize=(10, 6))\n",
        "plt.barh([i for i in range(20)], [cont_vocabulario_en[i] for i in range(20)], color='slategrey', height=0.5)\n",
        "plt.ylabel(\"Vocábulo\")\n",
        "plt.xlabel(\"Ocorrências por milhão\")\n",
        "plt.title(\"Vocábulos ingleses mais comuns\")\n",
        "plt.yticks([i for i in range(20)], [vocabulario_en[i] for i in range(20)])\n",
        "\n",
        "plt.show()"
      ],
      "execution_count": null,
      "outputs": [
        {
          "output_type": "display_data",
          "data": {
            "image/png": "[encoded data removed]",
            "text/plain": [
              "<Figure size 720x432 with 1 Axes>"
            ]
          },
          "metadata": {
            "tags": []
          }
        }
      ]
    },
    {
      "cell_type": "markdown",
      "metadata": {
        "id": "KvdH_XiR0gQc"
      },
      "source": [
        "### Quantidade de vocábulos portugueses com até 20 ocorrências "
      ]
    },
    {
      "cell_type": "code",
      "metadata": {
        "id": "BzsVEKn20rDo",
        "colab": {
          "base_uri": "https://localhost:8080/",
          "height": 404
        },
        "outputId": "b2cfe710-35f2-4b13-aa31-322075dd1d34"
      },
      "source": [
        "temp_vocab_pt = sorted(zip(cont_vocabulario_pt, vocabulario_pt))\n",
        "\n",
        "i_vocabulos = 0\n",
        "n_ocorrencias = 1\n",
        "ocorrencias = [0] * 20\n",
        "\n",
        "while n_ocorrencias <= 20:\n",
        "    while i_vocabulos < len(temp_vocab_pt):\n",
        "        if temp_vocab_pt[i_vocabulos][0] == n_ocorrencias:\n",
        "            ocorrencias[n_ocorrencias - 1] += 1\n",
        "            i_vocabulos += 1\n",
        "        else:\n",
        "            n_ocorrencias += 1\n",
        "            break\n",
        "    \n",
        "plt.figure(figsize=(10, 6))\n",
        "plt.bar([i for i in range(1, 21)], ocorrencias, color='slategrey')\n",
        "plt.xlabel(\"Quantidade de ocorrências na base de dados\")\n",
        "plt.ylabel(\"Número de vocábulos\")\n",
        "plt.title(\"Número de vocábulos portugueses por cada classe com até 20 ocorrências\")\n",
        "plt.xticks([i for i in range(1, 21)], [i for i in range(1, 21)])\n",
        "\n",
        "plt.show()"
      ],
      "execution_count": null,
      "outputs": [
        {
          "output_type": "display_data",
          "data": {
            "image/png": "[encoded data removed]",
            "text/plain": [
              "<Figure size 720x432 with 1 Axes>"
            ]
          },
          "metadata": {
            "tags": []
          }
        }
      ]
    },
    {
      "cell_type": "markdown",
      "metadata": {
        "id": "GIN9eogU6RK2"
      },
      "source": [
        "### Quantidade de vocábulos ingleses com até 20 ocorrências"
      ]
    },
    {
      "cell_type": "code",
      "metadata": {
        "id": "zeq2lcNT6Q8c",
        "colab": {
          "base_uri": "https://localhost:8080/",
          "height": 404
        },
        "outputId": "7e4c96be-d185-4ff9-e4a7-5856261c3abb"
      },
      "source": [
        "temp_vocab_en = sorted(zip(cont_vocabulario_en, vocabulario_en))\n",
        "\n",
        "i_vocabulos = 0\n",
        "n_ocorrencias = 1\n",
        "ocorrencias = [0] * 20\n",
        "\n",
        "while n_ocorrencias <= 20:\n",
        "    while i_vocabulos < len(temp_vocab_en):\n",
        "        if temp_vocab_en[i_vocabulos][0] == n_ocorrencias:\n",
        "            ocorrencias[n_ocorrencias - 1] += 1\n",
        "            i_vocabulos += 1\n",
        "        else:\n",
        "            n_ocorrencias += 1\n",
        "            break\n",
        "    \n",
        "plt.figure(figsize=(10, 6))\n",
        "plt.bar([i for i in range(1, 21)], ocorrencias, color='slategrey')\n",
        "plt.xlabel(\"Quantidade de ocorrências na base de dados\")\n",
        "plt.ylabel(\"Número de vocábulos\")\n",
        "plt.title(\"Número de vocábulos ingleses por cada classe com até 20 ocorrências\")\n",
        "plt.xticks([i for i in range(1, 21)], [i for i in range(1, 21)])\n",
        "\n",
        "plt.show()"
      ],
      "execution_count": null,
      "outputs": [
        {
          "output_type": "display_data",
          "data": {
            "image/png": "[encoded data removed]",
            "text/plain": [
              "<Figure size 720x432 with 1 Axes>"
            ]
          },
          "metadata": {
            "tags": []
          }
        }
      ]
    },
    {
      "cell_type": "markdown",
      "metadata": {
        "id": "scSR-Hy7VHI6"
      },
      "source": [
        "## Pré-processamento dos dados para treinamento"
      ]
    },
    {
      "cell_type": "code",
      "metadata": {
        "id": "HGKPNNQhhYjj"
      },
      "source": [
        "total_linhas_removidas = 0"
      ],
      "execution_count": null,
      "outputs": []
    },
    {
      "cell_type": "markdown",
      "metadata": {
        "id": "Ch0zBKW5hjDC"
      },
      "source": [
        "### Removendo linhas que contém dígitos\n",
        "\n",
        "##### Como a base é muito grande, a RAM disponível no Colab não dá conta de fazer tokenização e padding pra base completa, então precisamos reduzir o número de linhas. Além disso, há casos onde números que aparecem em uma sentença numa língua são escritos por extenso em outra, fazendo com que a sentença perca o sentido após remover os dígitos durante o pré-processamento."
      ]
    },
    {
      "cell_type": "code",
      "metadata": {
        "id": "r9GQcO9NhTlS",
        "colab": {
          "base_uri": "https://localhost:8080/"
        },
        "outputId": "4131a1af-52cb-45c3-b298-6de93dc2de14"
      },
      "source": [
        "i = 0\n",
        "linhas_removidas = 0\n",
        "pbar = tqdm(total = len(europarl_pt))\n",
        "digitos = ['1', '2', '3', '4', '5', '6', '7', '8', '9']\n",
        "\n",
        "while i < len(europarl_pt):\n",
        "    pular = False\n",
        "\n",
        "    for caractere in europarl_pt[i]:\n",
        "        if caractere in digitos:\n",
        "            del(europarl_pt[i])\n",
        "            del(europarl_en[i])\n",
        "            pular = True\n",
        "            break\n",
        "\n",
        "    if not pular:\n",
        "        for caractere in europarl_en[i]:\n",
        "            if caractere in digitos:\n",
        "                del(europarl_pt[i])\n",
        "                del(europarl_en[i])\n",
        "                pular = True\n",
        "                break\n",
        "\n",
        "    if pular:\n",
        "        linhas_removidas += 1\n",
        "    else:\n",
        "        i += 1\n",
        "    \n",
        "    pbar.update(1)\n",
        "pbar.close()\n",
        "\n",
        "print(\"\\n\\n\" + str(linhas_removidas) + \" linhas removidas\")\n",
        "total_linhas_removidas += linhas_removidas"
      ],
      "execution_count": null,
      "outputs": [
        {
          "output_type": "stream",
          "text": [
            "100%|██████████| 1960407/1960407 [06:28<00:00, 5050.35it/s] "
          ],
          "name": "stderr"
        },
        {
          "output_type": "stream",
          "text": [
            "\n",
            "\n",
            "228318 linhas removidas\n"
          ],
          "name": "stdout"
        },
        {
          "output_type": "stream",
          "text": [
            "\n"
          ],
          "name": "stderr"
        }
      ]
    },
    {
      "cell_type": "markdown",
      "metadata": {
        "id": "NTm8PZhchxVG"
      },
      "source": [
        "### Removendo caracteres especiais\n",
        "##### Adaptado de : https://www.tensorflow.org/tutorials/text/nmt_with_attention#download_and_prepare_the_dataset"
      ]
    },
    {
      "cell_type": "code",
      "metadata": {
        "id": "bADZNZGJh6SX",
        "colab": {
          "background_save": true,
          "base_uri": "https://localhost:8080/"
        },
        "outputId": "e40aad66-95da-4f95-98cf-54364b19fab6"
      },
      "source": [
        "pbar = tqdm(total = len(europarl_pt))\n",
        "counter_pt = Counter()\n",
        "counter_en = Counter()\n",
        "\n",
        "for i in range(len(europarl_pt)):\n",
        "    europarl_pt[i] = ''.join(caractere for caractere in unicodedata.normalize('NFD', europarl_pt[i]) if unicodedata.category(caractere) != 'Mn')\n",
        "    europarl_en[i] = ''.join(caractere for caractere in unicodedata.normalize('NFD', europarl_en[i]) if unicodedata.category(caractere) != 'Mn')\n",
        "\n",
        "    # Removendo formatação e convertendo os caracteres para minúsculo\n",
        "    europarl_pt[i] = europarl_pt[i].strip().lower()\n",
        "    europarl_en[i] = europarl_en[i].strip().lower()\n",
        "    \n",
        "    # Adicionando um espaço entre uma palavra e a pontuação seguinte\n",
        "    # ex: \"he is a boy.\" => \"he is a boy .\"\n",
        "    # Referência: https://stackoverflow.com/questions/3645931/python-padding-punctuation-with-white-spaces-keeping-punctuation\n",
        "    europarl_pt[i] = re.sub(r\"([?.!,;])\", r\" \\1 \", europarl_pt[i])\n",
        "    europarl_en[i] = re.sub(r\"([?.!,;])\", r\" \\1 \", europarl_en[i])\n",
        "\n",
        "    europarl_pt[i] = re.sub(r'[\" \"]+', \" \", europarl_pt[i])\n",
        "    europarl_en[i] = re.sub(r'[\" \"]+', \" \", europarl_en[i])\n",
        "\n",
        "    # Substituir tudo por espaço, exceto (a-z, A-Z, \".\", \"?\", \"!\", \",\")\n",
        "    europarl_pt[i] = re.sub(r\"[^a-zA-Z?.!,]+\", \" \", europarl_pt[i])\n",
        "    europarl_en[i] = re.sub(r\"[^a-zA-Z?.!,]+\", \" \", europarl_en[i])\n",
        "\n",
        "    europarl_pt[i] = europarl_pt[i].strip()\n",
        "    europarl_en[i] = europarl_en[i].strip()\n",
        "\n",
        "    # Adicionando tokens de início e fim de sentença\n",
        "    # para que o modelo saiba quando começar e terminar a predição\n",
        "    europarl_pt[i] = '<inicio> ' + europarl_pt[i] + ' <fim>'\n",
        "    europarl_en[i] = '<inicio> ' + europarl_en[i] + ' <fim>'\n",
        "\n",
        "    # Tokenizando\n",
        "    europarl_pt[i] = europarl_pt[i].split(' ')\n",
        "    europarl_en[i] = europarl_en[i].split(' ')\n",
        "\n",
        "    # Contando as ocorrências de cada vocábulo\n",
        "    counter_pt.update(europarl_pt[i])\n",
        "    counter_en.update(europarl_en[i])\n",
        "\n",
        "    pbar.update(1)\n",
        "pbar.close()"
      ],
      "execution_count": null,
      "outputs": [
        {
          "output_type": "stream",
          "text": [
            "100%|██████████| 1732089/1732089 [04:41<00:00, 6161.60it/s]\n"
          ],
          "name": "stderr"
        }
      ]
    },
    {
      "cell_type": "markdown",
      "metadata": {
        "id": "VY7nOhHw8z0g"
      },
      "source": [
        "### Removendo linhas com mais de 50 vocábulos\n",
        "\n",
        "##### Como Jean et al., 2015 (https://arxiv.org/abs/1412.2007), Bahdanau et al., 2015 (https://arxiv.org/abs/1409.0473) e Luong et al., 2015 (https://arxiv.org/abs/1508.04025)"
      ]
    },
    {
      "cell_type": "code",
      "metadata": {
        "id": "2glD-DAO8z9y",
        "colab": {
          "base_uri": "https://localhost:8080/"
        },
        "outputId": "7104815d-e789-4951-9f24-dd6d99878fa8"
      },
      "source": [
        "pbar = tqdm(total = len(europarl_pt))\n",
        "n_linhas_removidas = 0\n",
        "index = 0\n",
        "\n",
        "while index < len(europarl_pt):\n",
        "    if len(europarl_pt[index]) > 50 or len(europarl_en[index]) > 50:\n",
        "        n_linhas_removidas += 1\n",
        "        del(europarl_pt[index])\n",
        "        del(europarl_en[index])\n",
        "    else:\n",
        "        index += 1\n",
        "    pbar.update(1)\n",
        "pbar.close()\n",
        "\n",
        "print(\"Número de linhas com mais de 50 tokens removidas : \" + str(n_linhas_removidas))"
      ],
      "execution_count": null,
      "outputs": [
        {
          "output_type": "stream",
          "text": [
            "Número de linhas com mais de 50 tokens removidas : 195470\n"
          ],
          "name": "stdout"
        }
      ]
    },
    {
      "cell_type": "markdown",
      "metadata": {
        "id": "DPegi_gYvJgv"
      },
      "source": [
        "### Construindo o vocabulário com os 50.000 vocábulos mais comuns\n",
        "\n",
        "##### Assim como Luong et al., 2015 (https://arxiv.org/abs/1508.04025) e Jean et al., 2015 (https://arxiv.org/abs/1412.2007). "
      ]
    },
    {
      "cell_type": "code",
      "metadata": {
        "id": "Bgrzfdk8DAIP"
      },
      "source": [
        "mais_frequentes_pt = [vocabulo for (vocabulo, cont) in counter_pt.most_common(50000)]\n",
        "mais_frequentes_en = [vocabulo for (vocabulo, cont) in counter_en.most_common(50000)]\n",
        "\n",
        "dict_pt = dict()\n",
        "dict_en = dict()\n",
        "\n",
        "dict_pt = ({'': 0, '<desconhecido>': 1})\n",
        "dict_pt[0] = ''\n",
        "dict_pt[1] = '<desconhecido>'\n",
        "\n",
        "dict_en = ({'': 0, '<desconhecido>': 1})\n",
        "dict_en[0] = ''\n",
        "dict_en[1] = '<desconhecido>'\n",
        "\n",
        "index_pt = 2\n",
        "index_en = 2\n",
        "\n",
        "for i in range(50000):\n",
        "    dict_pt[i + 2] = mais_frequentes_pt[i]\n",
        "    dict_pt[mais_frequentes_pt[i]] = i + 2\n",
        "\n",
        "    dict_en[i + 2] = mais_frequentes_en[i]\n",
        "    dict_en[mais_frequentes_en[i]] = i + 2"
      ],
      "execution_count": null,
      "outputs": []
    },
    {
      "cell_type": "markdown",
      "metadata": {
        "id": "72rgLkk3VdRc"
      },
      "source": [
        "### Tokenização e padding\n",
        "\n",
        "##### Vamos preencher as linhas com zeros para que todas tenham 50 tokens. Isso é necessário porque as técnicas de aprendizado profundo não se dão bem com matrizes não-quadradas."
      ]
    },
    {
      "cell_type": "code",
      "metadata": {
        "id": "-mqeO1G-Vf3t",
        "colab": {
          "base_uri": "https://localhost:8080/"
        },
        "outputId": "bbfe7968-14d4-45db-e495-4bcfaffa8ff2"
      },
      "source": [
        "pbar = tqdm(total = len(europarl_pt))\n",
        "\n",
        "for i in range(len(europarl_pt)):\n",
        "    for index_token in range(len(europarl_pt[i])):\n",
        "        if europarl_pt[i][index_token] in dict_pt:\n",
        "            europarl_pt[i][index_token] = dict_pt[europarl_pt[i][index_token]]\n",
        "        else:\n",
        "            europarl_pt[i][index_token] = dict_pt['<desconhecido>']\n",
        "    europarl_pt[i] += [0] * (50 - len(europarl_pt[i]))\n",
        "    \n",
        "    \n",
        "    for index_token in range(len(europarl_en[i])):\n",
        "        if europarl_en[i][index_token] in dict_en:\n",
        "            europarl_en[i][index_token] = dict_en[europarl_en[i][index_token]]\n",
        "        else:\n",
        "            europarl_en[i][index_token] = dict_en['<desconhecido>']\n",
        "    europarl_en[i] += [0] * (50 - len(europarl_en[i]))\n",
        "\n",
        "    pbar.update(1)\n",
        "pbar.close()"
      ],
      "execution_count": null,
      "outputs": [
        {
          "output_type": "stream",
          "text": [
            "100%|██████████| 1536619/1536619 [00:56<00:00, 27246.57it/s]\n"
          ],
          "name": "stderr"
        }
      ]
    },
    {
      "cell_type": "markdown",
      "metadata": {
        "id": "Jgt4NswniJtP"
      },
      "source": [
        "### Adicionando mais uma dimensão à base de dados\n",
        "<ul>\n",
        "<li> Redes recorrentes precisam de vetores em 3d, então transformaremos os os vetores com formato (número_de_linhas, número_de_vocábulos) em (número_de_linhas, número_de_vocábulos, 1), onde 1 é o vocábulo para cada etapa da sequência. </li></ul>"
      ]
    },
    {
      "cell_type": "code",
      "metadata": {
        "id": "ZVTE9HnYiLCn",
        "colab": {
          "base_uri": "https://localhost:8080/"
        },
        "outputId": "9c6c07f6-3bbb-4607-d1b9-e7b1fff2827c"
      },
      "source": [
        "europarl_pt = np.expand_dims(np.array(europarl_pt), -1)\n",
        "europarl_en = np.expand_dims(np.array(europarl_en), -1)\n",
        "print(europarl_pt.shape)\n",
        "print(europarl_en.shape)"
      ],
      "execution_count": null,
      "outputs": [
        {
          "output_type": "stream",
          "text": [
            "(1536619, 50, 1)\n",
            "(1536619, 50, 1)\n"
          ],
          "name": "stdout"
        }
      ]
    },
    {
      "cell_type": "markdown",
      "metadata": {
        "id": "dsGz8FCWpY5I"
      },
      "source": [
        "### Separação de amostras de treino e teste"
      ]
    },
    {
      "cell_type": "code",
      "metadata": {
        "id": "fQUE61CVpfvO"
      },
      "source": [
        "base_pt_treino, base_pt_teste, base_en_treino, base_en_teste = train_test_split(europarl_pt, europarl_en, test_size=0.3)"
      ],
      "execution_count": null,
      "outputs": []
    },
    {
      "cell_type": "markdown",
      "metadata": {
        "id": "73CufSvwMSk7"
      },
      "source": [
        "### Salvando a base tokenizada e o tokenizador"
      ]
    },
    {
      "cell_type": "code",
      "metadata": {
        "id": "oni7P7YsJ219"
      },
      "source": [
        "europarl_pt = np.array(europarl_pt)\n",
        "europarl_en = np.array(europarl_en)\n",
        "\n",
        "np.save(raiz + '50v_sd_sce_padded_pt.npy', europarl_pt, allow_pickle=True)\n",
        "np.save(raiz + '50v_sd_sce_padded_en.npy', europarl_en, allow_pickle=True)\n",
        "\n",
        "np.save(raiz + '50v_sd_sce_padded_pt_treino.npy', base_pt_treino, allow_pickle=True)\n",
        "np.save(raiz + '50v_sd_sce_padded_en_treino.npy', base_en_treino, allow_pickle=True)\n",
        "np.save(raiz + '50v_sd_sce_padded_pt_teste.npy', base_pt_teste, allow_pickle=True)\n",
        "np.save(raiz + '50v_sd_sce_padded_en_teste.npy', base_en_teste, allow_pickle=True)\n",
        "\n",
        "with open(raiz + 'dicionario_tokenizador_pt.json', 'wt') as arq_dict_pt:\n",
        "    json.dump(dict_pt, arq_dict_pt)\n",
        "\n",
        "with open(raiz + 'dicionario_tokenizador_en.json', 'wt') as arq_dict_en:\n",
        "    json.dump(dict_en, arq_dict_en)"
      ],
      "execution_count": null,
      "outputs": []
    },
    {
      "cell_type": "markdown",
      "metadata": {
        "id": "yncTLR9fWp3H"
      },
      "source": [
        "### Carregando a base salva\n",
        "<ul>\n",
        "<li> Python automaticamente converte índices numéricos de dicionários em strings ao salvar em arquivo, então precisamos reconverter estes índices em numéricos ao carregar um dicionário salvo.</li></ul>"
      ]
    },
    {
      "cell_type": "code",
      "metadata": {
        "id": "ArGuK_-FWyF1"
      },
      "source": [
        "#europarl_pt = np.load(raiz + '50v_sd_sce_padded_pt.npy', allow_pickle=True)\n",
        "#europarl_en = np.load(raiz + '50v_sd_sce_padded_en.npy', allow_pickle=True)\n",
        "X_treino = np.load(raiz + '50v_sd_sce_padded_en_treino.npy', allow_pickle=True)\n",
        "X_teste = np.load(raiz + '50v_sd_sce_padded_en_teste.npy', allow_pickle=True)\n",
        "y_treino = np.load(raiz + '50v_sd_sce_padded_pt_treino.npy', allow_pickle=True)\n",
        "y_teste = np.load(raiz + '50v_sd_sce_padded_pt_teste.npy', allow_pickle=True)\n",
        "\n",
        "with open(raiz + 'dicionario_tokenizador_pt.json', 'rt') as arq_dict_pt:\n",
        "    dict_pt = json.load(arq_dict_pt)\n",
        "\n",
        "with open(raiz + 'dicionario_tokenizador_en.json', 'rt') as arq_dict_en:\n",
        "    dict_en = json.load(arq_dict_en)"
      ],
      "execution_count": null,
      "outputs": []
    },
    {
      "cell_type": "code",
      "metadata": {
        "id": "JtjpLeyWtKw2"
      },
      "source": [
        "index = 0\n",
        "\n",
        "while str(index) in dict_pt:\n",
        "    dict_pt[index] = dict_pt[str(index)]\n",
        "    del(dict_pt[str(index)])\n",
        "    index += 1\n",
        "\n",
        "index = 0\n",
        "\n",
        "while str(index) in dict_en:\n",
        "    dict_en[index] = dict_en[str(index)]\n",
        "    del(dict_en[str(index)])\n",
        "    index += 1"
      ],
      "execution_count": null,
      "outputs": []
    },
    {
      "cell_type": "code",
      "metadata": {
        "id": "a8qPKC1mZK60"
      },
      "source": [
        "\"\"\"\n",
        "X_treino = np.load(raiz + '50v_sd_sce_padded_en_treino.npy', allow_pickle=True)\n",
        "X_teste = np.load(raiz + '50v_sd_sce_padded_en_teste.npy', allow_pickle=True)\n",
        "y_treino = np.load(raiz + '50v_sd_sce_padded_pt_treino.npy', allow_pickle=True)\n",
        "y_teste = np.load(raiz + '50v_sd_sce_padded_pt_teste.npy', allow_pickle=True)\"\"\"\n",
        "\n",
        "tam_batch = 64\n",
        "\n",
        "X_treino = tf.convert_to_tensor(np.squeeze(X_treino), dtype = tf.dtypes.int64)\n",
        "X_teste = tf.convert_to_tensor(np.squeeze(X_teste), dtype = tf.dtypes.int64)\n",
        "\n",
        "y_treino = tf.convert_to_tensor(np.squeeze(y_treino), dtype = tf.dtypes.int64)\n",
        "y_teste = tf.convert_to_tensor(np.squeeze(y_teste), dtype = tf.dtypes.int64)\n",
        "\n",
        "dataset_treino = tf.data.Dataset.from_tensor_slices((X_treino, y_treino)).batch(tam_batch, drop_remainder = True)\n",
        "dataset_teste = tf.data.Dataset.from_tensor_slices((X_teste, y_teste)).batch(tam_batch, drop_remainder = True)"
      ],
      "execution_count": null,
      "outputs": []
    },
    {
      "cell_type": "markdown",
      "metadata": {
        "id": "fGInh9f55l9P"
      },
      "source": [
        "## Componentes customizados"
      ]
    },
    {
      "cell_type": "markdown",
      "metadata": {
        "id": "bjyDMSXDIKMQ"
      },
      "source": [
        "### Encoder"
      ]
    },
    {
      "cell_type": "code",
      "metadata": {
        "id": "fAMzwSJ75sai"
      },
      "source": [
        "class Encoder(tf.keras.layers.Layer):\n",
        "    def __init__(self, \n",
        "                 num_celulas, \n",
        "                 tipo_celula='lstm',\n",
        "                 num_dim_embedding = 0,\n",
        "                 tam_vocab = 0,\n",
        "                 dropout = 0.0,\n",
        "                 nome='Encoder'):\n",
        "        \n",
        "        self.num_celulas = num_celulas\n",
        "        self.tipo_celula = tipo_celula.lower()\n",
        "        \n",
        "        if self.tipo_celula == 'lstm':\n",
        "            self.encoder = tf.keras.layers.LSTM(num_celulas,\n",
        "                                                return_sequences=True,\n",
        "                                                return_state=True,\n",
        "                                                dropout=dropout)\n",
        "        \n",
        "        if self.tipo_celula == 'gru':\n",
        "            self.encoder = tf.keras.layers.GRU(num_celulas,\n",
        "                                               return_sequences=True,\n",
        "                                               return_state=True,\n",
        "                                               dropout=dropout) \n",
        "            \n",
        "        if num_dim_embedding > 0:\n",
        "            self.embedding = tf.keras.layers.Embedding(tam_vocab, \n",
        "                                                       num_dim_embedding, \n",
        "                                                       mask_zero = True)\n",
        "\n",
        "        super(Encoder, self).__init__(name=nome, trainable=True, dynamic=True)\n",
        "\n",
        "    def call(self, inputs, training=False):\n",
        "        x = self.embedding(inputs)\n",
        "        mascara = self.embedding.compute_mask(inputs)\n",
        "\n",
        "        if self.tipo_celula == 'lstm':\n",
        "            saida, estado_oculto, estado_celula = self.encoder(x, \n",
        "                                                               mask = mascara,\n",
        "                                                               training = training)\n",
        "            estado_final = [estado_oculto, estado_celula]\n",
        "        elif self.tipo_celula == 'gru':\n",
        "            saida, estado_final = self.encoder(x, \n",
        "                                               mask = mascara,\n",
        "                                               training=training)\n",
        "\n",
        "        return saida, estado_final"
      ],
      "execution_count": null,
      "outputs": []
    },
    {
      "cell_type": "markdown",
      "metadata": {
        "id": "kLdZLf8rIMWe"
      },
      "source": [
        "### Decoder"
      ]
    },
    {
      "cell_type": "code",
      "metadata": {
        "id": "aQ5ZXg5pINi2"
      },
      "source": [
        "class ProfessorForcingDecoder(tf.keras.layers.Layer):\n",
        "    def __init__(self, \n",
        "                 num_celulas, \n",
        "                 token_inicio, \n",
        "                 token_fim,\n",
        "                 tipo_celula = 'lstm',\n",
        "                 num_dim_embedding = 0,\n",
        "                 tam_vocab = 0,\n",
        "                 tamanho_batch = 64,\n",
        "                 dropout = 0.0,\n",
        "                 atencao='none',\n",
        "                 janelas_atencao = 0,\n",
        "                 dropout_atencao = 0.0,\n",
        "                 limite_maximo = 200,\n",
        "                 nome = 'ProfessorForcingDecoder'):\n",
        "        \n",
        "        self.num_celulas = num_celulas\n",
        "        self.tipo_celula = tipo_celula.lower()\n",
        "        self.tam_batch = tamanho_batch\n",
        "        self.tam_vocab = tam_vocab\n",
        "        self.atencao = None\n",
        "        self.token_inicio = token_inicio\n",
        "        self.token_fim = token_fim\n",
        "        self.limite_maximo = limite_maximo\n",
        "\n",
        "        self.classificador = tf.keras.layers.Dense(tam_vocab, activation='softmax')\n",
        "        self.classificador_temporal = tf.keras.layers.TimeDistributed(self.classificador)\n",
        "        self.funcao_perda = tf.keras.losses.SparseCategoricalCrossentropy(from_logits=False, reduction='none')\n",
        "        \n",
        "        if self.tipo_celula == 'lstm':\n",
        "            self.decoder = tf.keras.layers.LSTM(num_celulas,\n",
        "                                                return_sequences=True,\n",
        "                                                return_state=True,\n",
        "                                                dropout=dropout)\n",
        "        \n",
        "        if self.tipo_celula == 'gru':\n",
        "            self.decoder = tf.keras.layers.GRU(num_celulas,\n",
        "                                               return_sequences=True,\n",
        "                                               return_state=True,\n",
        "                                               dropout=dropout) \n",
        "\n",
        "        if atencao.lower() == 'luong':\n",
        "            self.atencao = tf.keras.layers.Attention(janelas_atencao, dropout=dropout_atencao)\n",
        "\n",
        "        elif atencao.lower() == 'bahdanau':\n",
        "            self.atencao = tf.keras.layers.AdditiveAttention(janelas_atencao, dropout=dropout_atencao)\n",
        "\n",
        "        if num_dim_embedding > 0:\n",
        "            self.embedding = tf.keras.layers.Embedding(tam_vocab, \n",
        "                                                       num_dim_embedding, \n",
        "                                                       mask_zero = True)\n",
        "\n",
        "        super(ProfessorForcingDecoder, self).__init__(name=nome, trainable=True, dynamic=True)\n",
        "\n",
        "    def decode(self, x, estado_final_anterior, training = False, mask = None):\n",
        "        if self.tipo_celula == 'lstm':\n",
        "            x, estado_oculto, estado_celula = self.decoder(x, \n",
        "                                                           estado_final_anterior,\n",
        "                                                           mask = mask,\n",
        "                                                           training = False)\n",
        "            estado_final = [estado_oculto, estado_celula]\n",
        "\n",
        "        elif self.tipo_celula == 'gru':\n",
        "            x, estado_final = self.decoder(x, \n",
        "                                           estado_final_anterior,\n",
        "                                           mask = mask, \n",
        "                                           training = False)\n",
        "        return x, estado_final\n",
        "\n",
        "    def call(self, inputs, saida_decoder, estado_final_anterior, training=False):\n",
        "        if training:\n",
        "            x = self.embedding(inputs)\n",
        "            mascara = self.embedding.compute_mask(inputs)\n",
        "            \"\"\"\n",
        "            if self.atencao:\n",
        "                contexto_atencao = self.atencao([tf.expand_dims(estado_final_anterior, 1), saida_decoder])\n",
        "                x = tf.concat([tf.expand_dims(contexto_atencao, 1), x], axis=-1)\"\"\"\n",
        "            saida, _ = self.decode(x, \n",
        "                                   estado_final_anterior, \n",
        "                                   mask = mascara,\n",
        "                                   training = True)\n",
        "\n",
        "            saida = self.classificador_temporal(saida)[:,:-1]\n",
        "\n",
        "        elif inputs is not None:\n",
        "            saida = np.zeros((1, self.tam_batch, self.tam_vocab), dtype = np.float32)\n",
        "            saida[0][0][self.token_inicio] = 1.0\n",
        "            saida = tf.convert_to_tensor(saida, dtype = tf.dtypes.float32)\n",
        "            x = tf.convert_to_tensor([[self.token_inicio]] * self.tam_batch) # A entrada inicial tem formato (tam_batch)\n",
        "                                                                           # e é preenchida com o token de início\n",
        "\n",
        "            estado_final = estado_final_anterior # O estado oculto/final da rede recorrente\n",
        "\n",
        "            for _ in range(inputs.shape[1]):\n",
        "                mascara = self.embedding.compute_mask(x) # Usando máscara para a rede recorrente ignorar os zeros\n",
        "                x = self.embedding(x) \n",
        "                x, estado_final = self.decode(x, \n",
        "                                              estado_final, \n",
        "                                              mask = mascara,\n",
        "                                              training = False)\n",
        "                    \n",
        "                x = tf.squeeze(x, [1]) # Convertendo a saída da rede recorrente de (tam_batch, 1, num_celulas)\n",
        "                                       # para (tam_batch, num_celulas)\n",
        "\n",
        "                x = self.classificador(x) # A saída do classificador tem formato (tam_batch, tam_vocab)\n",
        "                saida = tf.concat([saida, tf.expand_dims(x, axis = 0)], axis = 0)\n",
        "                x = tf.math.argmax(x, axis = -1, output_type = tf.dtypes.int64)\n",
        "                x = tf.expand_dims(x, axis = 1)\n",
        "            \n",
        "            saida = tf.transpose(saida[1:-1], [1, 0, 2]) # Removendo a primeira posição que foi criada só para inicializar o tensor\n",
        "\n",
        "        else:\n",
        "            saida = np.zeros((1, self.tam_vocab), dtype = np.float32)\n",
        "            saida[0][self.token_inicio] = 1.0\n",
        "            saida = tf.convert_to_tensor(saida, dtype = tf.dtypes.float32)\n",
        "            x = tf.convert_to_tensor([[self.token_inicio]], dtype = tf.dtypes.int64)\n",
        "            estado_final = estado_final_anterior\n",
        "            limitador = 0\n",
        "\n",
        "            while x != tf.constant([self.token_fim], dtype = tf.dtypes.int64) and limitador < 200:\n",
        "                mascara = self.embedding.compute_mask(x) # Usando máscara para a rede recorrente ignorar os zeros\n",
        "                x = self.embedding(x) \n",
        "\n",
        "                x, estado_final = self.decode(x, \n",
        "                                              estado_final, \n",
        "                                              mask = mascara,\n",
        "                                              training = False)\n",
        "                    \n",
        "                x = tf.squeeze(x, [1]) # Convertendo a saída da rede recorrente de (tam_batch, 1, num_celulas)\n",
        "                                       # para (tam_batch, num_celulas)\n",
        "\n",
        "                x = self.classificador(x) # A saída do classificador tem formato (tam_batch, tam_vocab)\n",
        "                saida = tf.concat([saida, x], axis = 0)\n",
        "                x = tf.math.argmax(x, axis = -1, output_type = tf.dtypes.int64)\n",
        "                x = tf.expand_dims(x, axis = 1)\n",
        "                limitador += 1\n",
        "            \n",
        "            saida = saida[:,1:-1] # Removendo a primeira posição que foi criada só para inicializar o tensor\n",
        "                                  # e a última que é o token final\n",
        "        if inputs is not None:\n",
        "            perda = self.funcao_perda(inputs[:,1:], saida)\n",
        "            return tf.math.argmax(saida, axis = -1, output_type = tf.dtypes.int64), tf.reduce_mean(perda)\n",
        "        else:\n",
        "            return tf.math.argmax(saida, axis = -1, output_type = tf.dtypes.int64), 0.0        "
      ],
      "execution_count": null,
      "outputs": []
    },
    {
      "cell_type": "markdown",
      "metadata": {
        "id": "IjOn_07B6Wrx"
      },
      "source": [
        "### BLEU\n",
        "\n",
        "##### Papinemi et al., 2002 (https://dl.acm.org/doi/10.3115/1073083.1073135)"
      ]
    },
    {
      "cell_type": "code",
      "metadata": {
        "id": "l_OGfuvfPw4I"
      },
      "source": [
        "def calcular_bleu(tensor_referencias, tensor_candidatos, ngrams = 4):\n",
        "    referencias = tensor_referencias.numpy()\n",
        "    candidatos = tensor_candidatos.numpy()\n",
        "    batch_bleu = 0\n",
        "    peso = 1 / ngrams\n",
        "    \n",
        "    for index in range(len(referencias)):\n",
        "        bleu = 0\n",
        "\n",
        "        for ngram in range(1, ngrams + 1):\n",
        "            referencia = montar_ngram(referencias[index], ngram = ngram)\n",
        "            candidato = montar_ngram(candidatos[index], ngram = ngram)\n",
        "            count = 0\n",
        "\n",
        "            for gram_candidato in montar_conjunto(candidato):\n",
        "                count += referencia.count(gram_candidato)\n",
        "\n",
        "            if len(montar_conjunto(candidato)) > 0 and count > 0:\n",
        "                count = count / len(montar_conjunto(candidato))\n",
        "                bleu += (peso * np.log(count))\n",
        "\n",
        "        r = len(montar_conjunto(referencias[index]))\n",
        "        c = len(montar_conjunto(candidatos[index]))\n",
        "\n",
        "        if c > 0:\n",
        "            bp = 1 if c > r else np.exp((1 - r)/c)\n",
        "            bleu = bp * np.exp(bleu)\n",
        "            batch_bleu += bleu \n",
        "        else:\n",
        "            pass              \n",
        "\n",
        "    return batch_bleu/len(referencias)\n",
        "\n",
        "def montar_ngram(vetor, ngram = 2, remover_zeros = True):\n",
        "    novo_vetor = []\n",
        "    vetor_ngram = []\n",
        "\n",
        "    for elemento in vetor:\n",
        "        if elemento != 0:\n",
        "            novo_vetor.append(elemento)\n",
        "    \n",
        "    for i in range(len(novo_vetor) - ngram + 1 ):\n",
        "        vetor_ngram.append(tuple(novo_vetor[i:i+ngram]))\n",
        "\n",
        "    return vetor_ngram\n",
        "\n",
        "def montar_conjunto(vetor):\n",
        "    conjunto = set()\n",
        "\n",
        "    for elemento in vetor:\n",
        "        if elemento not in conjunto:\n",
        "            conjunto.add(elemento)\n",
        "\n",
        "    return conjunto"
      ],
      "execution_count": null,
      "outputs": []
    },
    {
      "cell_type": "markdown",
      "metadata": {
        "id": "WUt49HOe9IKE"
      },
      "source": [
        "## Testes\n",
        "<ul>\n",
        "<li> Todas as instâncias utilizam professor forcing (<a href=\"https://arxiv.org/abs/1610.09038\">Lamb et al., 2016</a>) </li>\n",
        "<ul>\n",
        "\n"
      ]
    },
    {
      "cell_type": "markdown",
      "metadata": {
        "id": "FpRUr8FL9Kwk"
      },
      "source": [
        "### Baseline - encoder/decoder LSTM"
      ]
    },
    {
      "cell_type": "code",
      "metadata": {
        "id": "M6BcINW4LfZS"
      },
      "source": [
        "encoder = Encoder(1024, \n",
        "                  tipo_celula = 'gru', \n",
        "                  num_dim_embedding = 256, \n",
        "                  tam_vocab = len(dict_pt)//2 + 1)\n",
        "\n",
        "decoder = ProfessorForcingDecoder(1024, \n",
        "                                  dict_pt[\"<inicio>\"],\n",
        "                                  dict_pt[\"<fim>\"],\n",
        "                                  tipo_celula = 'gru', \n",
        "                                  tamanho_batch = tam_batch,\n",
        "                                  num_dim_embedding = 256, \n",
        "                                  tam_vocab = len(dict_pt)//2 + 1)"
      ],
      "execution_count": null,
      "outputs": []
    },
    {
      "cell_type": "markdown",
      "metadata": {
        "id": "zTv3_HfXxvV6"
      },
      "source": [
        "##### Otimizador\n",
        "Utilizando os mesmos parâmetros que Bahdanau et al., 2015 (https://arxiv.org/abs/1409.0473)"
      ]
    },
    {
      "cell_type": "code",
      "metadata": {
        "id": "7sT-ZgbMEWN8"
      },
      "source": [
        "otimizador = tf.keras.optimizers.Adadelta(learning_rate=1.0, rho=0.95, epsilon=1e-06)"
      ],
      "execution_count": null,
      "outputs": []
    },
    {
      "cell_type": "markdown",
      "metadata": {
        "id": "SPki-0bE1RH6"
      },
      "source": [
        "##### Função de treino"
      ]
    },
    {
      "cell_type": "code",
      "metadata": {
        "id": "r8wyfAFJ1TeH"
      },
      "source": [
        "@tf.function\n",
        "def treinar(entrada, saida):\n",
        "    threshold = 1.0\n",
        "    perda = 0\n",
        "    bleu = 0\n",
        "\n",
        "    with tf.GradientTape() as tape:\n",
        "        saida_encoder, estados_encoder = encoder(entrada, training = True)\n",
        "        saida_decoder, perda = decoder(saida, saida_encoder, estados_encoder, training = True)\n",
        "\n",
        "    variaveis = encoder.trainable_variables + decoder.trainable_variables\n",
        "\n",
        "    gradientes = tape.gradient(perda, variaveis)\n",
        "\n",
        "    gradientes = [tf.clip_by_norm(gradiente, threshold) if tf.math.reduce_max(gradiente) > threshold else gradiente for gradiente in gradientes]\n",
        "\n",
        "    otimizador.apply_gradients(zip(gradientes, variaveis))\n",
        "\n",
        "    return perda, saida_decoder"
      ],
      "execution_count": null,
      "outputs": []
    },
    {
      "cell_type": "markdown",
      "metadata": {
        "id": "eN-9O6yaaXku"
      },
      "source": [
        "#### Função de teste/avaliação"
      ]
    },
    {
      "cell_type": "code",
      "metadata": {
        "id": "T9fuVs5yaXAU"
      },
      "source": [
        "def avaliar(entrada, saida):\n",
        "    perda = 0\n",
        "    \n",
        "    saida_encoder, estados_encoder = encoder(entrada, training = False)\n",
        "    saida_decoder, perda = decoder(saida, saida_encoder, estados_encoder, training = False)\n",
        "\n",
        "    return perda, saida_decoder"
      ],
      "execution_count": null,
      "outputs": []
    },
    {
      "cell_type": "markdown",
      "metadata": {
        "id": "m5ZY6sZRQm8b"
      },
      "source": [
        "#### Treinamento"
      ]
    },
    {
      "cell_type": "code",
      "metadata": {
        "id": "-eofvnUPQoPC",
        "colab": {
          "base_uri": "https://localhost:8080/",
          "height": 646
        },
        "outputId": "5eccf96d-7c23-4298-db47-e383dd427f59"
      },
      "source": [
        "num_epocas = 1\n",
        "\n",
        "print(str(num_epocas) + \" época(s) executando \" + str(X_treino.shape[0]) + \" amostras de treino e \" + str(X_teste.shape[0]) + \" amostras de teste\\n\")\n",
        "\n",
        "for epoca in range(num_epocas):\n",
        "    print(\"Época \" + str(epoca + 1) + \" iniciando\\n\")\n",
        "    perda_total = 0\n",
        "    perda_total_teste = 0\n",
        "    bleu_total = 0\n",
        "    bleu_total_teste = 0\n",
        "    executados = 0\n",
        "    executados_teste = 0\n",
        "\n",
        "    pbar = tf.keras.utils.Progbar(X_treino.shape[0], stateful_metrics = ['perda', 'bleu'])\n",
        "    pbar.update(0, values = [('perda', np.inf), ('bleu', 0)])\n",
        "\n",
        "    for batch in dataset_treino:\n",
        "        x, y = batch\n",
        "        executados += x.shape[0]\n",
        "        perda, saida_decoder = treinar(x, y)\n",
        "        bleu = calcular_bleu(y[:,1:], saida_decoder)\n",
        "        bleu_total += bleu\n",
        "        perda_total += perda\n",
        "        pbar.update(executados, values = [('perda', perda.numpy()), ('bleu', bleu)])\n",
        "\n",
        "    pbar.update(executados, finalize = True)\n",
        "    perda_total /= math.ceil(executados/tam_batch)\n",
        "    bleu_total /= math.ceil(executados/tam_batch)\n",
        "    print(\"\\nperda média = %.3f\" % perda_total)\n",
        "    print(\"bleu médio = %.3f\" % bleu_total)\n",
        "\n",
        "    print(\"\\n Iniciando avaliação da época \" + str(epoca + 1) + \"\\n\")\n",
        "\n",
        "    pbar = tf.keras.utils.Progbar(X_teste.shape[0], stateful_metrics = ['perda', 'bleu'])\n",
        "    pbar.update(0, values = [('perda', np.inf), ('bleu', 0)])\n",
        "\n",
        "    for batch in dataset_teste:\n",
        "        x, y = batch\n",
        "        executados_teste += x.shape[0]\n",
        "        perda, saida_decoder = avaliar(x, y)\n",
        "        bleu = calcular_bleu(y, saida_decoder)\n",
        "        bleu_total_teste += bleu\n",
        "        perda_total_teste += perda\n",
        "        pbar.update(executados_teste, values = [('perda teste', perda.numpy()), ('bleu teste', bleu)])\n",
        "    \n",
        "    pbar.update(executados_teste, finalize = True)\n",
        "    perda_total_teste /= math.ceil(executados_teste/tam_batch)\n",
        "    bleu_total_teste /= math.ceil(executados_teste/tam_batch)\n",
        "    print(\"\\nperda média teste = %.3f\" % perda_total_teste)\n",
        "    print(\"bleu médio teste = %.3f\" % bleu_total_teste)"
      ],
      "execution_count": null,
      "outputs": [
        {
          "output_type": "stream",
          "text": [
            "1 época(s) executando 1075633 amostras de treino e 460986 amostras de teste\n",
            "\n",
            "Época 1 iniciando\n",
            "\n",
            "     64/1075633 [..............................] - ETA: 44:33:03 - perda: 10.8206 - bleu: 0.0000e+00"
          ],
          "name": "stdout"
        },
        {
          "output_type": "stream",
          "text": [
            "/usr/local/lib/python3.6/dist-packages/ipykernel_launcher.py:20: RuntimeWarning: divide by zero encountered in log\n"
          ],
          "name": "stderr"
        },
        {
          "output_type": "stream",
          "text": [
            "1075584/1075633 [============================>.] - ETA: 0s - perda: 2.1660 - bleu: 0.0085\n",
            "perda total = 2.520\n",
            "bleu total = 0.003\n",
            "\n",
            " Iniciando avaliação da época 1\n",
            "\n",
            "177664/460986 [==========>...................] - ETA: 1:37:41 - perda: inf - bleu: 0.0000e+00 - perda teste: 10.4656 - bleu teste: 0.0019"
          ],
          "name": "stdout"
        },
        {
          "output_type": "error",
          "ename": "KeyboardInterrupt",
          "evalue": "ignored",
          "traceback": [
            "\u001b[0;31m---------------------------------------------------------------------------\u001b[0m",
            "\u001b[0;31mKeyboardInterrupt\u001b[0m                         Traceback (most recent call last)",
            "\u001b[0;32m<ipython-input-86-276567e90ee1>\u001b[0m in \u001b[0;36m<module>\u001b[0;34m()\u001b[0m\n\u001b[1;32m     37\u001b[0m         \u001b[0mx\u001b[0m\u001b[0;34m,\u001b[0m \u001b[0my\u001b[0m \u001b[0;34m=\u001b[0m \u001b[0mbatch\u001b[0m\u001b[0;34m\u001b[0m\u001b[0;34m\u001b[0m\u001b[0m\n\u001b[1;32m     38\u001b[0m         \u001b[0mexecutados_teste\u001b[0m \u001b[0;34m+=\u001b[0m \u001b[0mx\u001b[0m\u001b[0;34m.\u001b[0m\u001b[0mshape\u001b[0m\u001b[0;34m[\u001b[0m\u001b[0;36m0\u001b[0m\u001b[0;34m]\u001b[0m\u001b[0;34m\u001b[0m\u001b[0;34m\u001b[0m\u001b[0m\n\u001b[0;32m---> 39\u001b[0;31m         \u001b[0mperda\u001b[0m\u001b[0;34m,\u001b[0m \u001b[0msaida_decoder\u001b[0m \u001b[0;34m=\u001b[0m \u001b[0mavaliar\u001b[0m\u001b[0;34m(\u001b[0m\u001b[0mx\u001b[0m\u001b[0;34m,\u001b[0m \u001b[0my\u001b[0m\u001b[0;34m)\u001b[0m\u001b[0;34m\u001b[0m\u001b[0;34m\u001b[0m\u001b[0m\n\u001b[0m\u001b[1;32m     40\u001b[0m         \u001b[0mbleu\u001b[0m \u001b[0;34m=\u001b[0m \u001b[0mcalcular_bleu\u001b[0m\u001b[0;34m(\u001b[0m\u001b[0my\u001b[0m\u001b[0;34m,\u001b[0m \u001b[0msaida_decoder\u001b[0m\u001b[0;34m)\u001b[0m\u001b[0;34m\u001b[0m\u001b[0;34m\u001b[0m\u001b[0m\n\u001b[1;32m     41\u001b[0m         \u001b[0mbleu_total_teste\u001b[0m \u001b[0;34m+=\u001b[0m \u001b[0mbleu\u001b[0m\u001b[0;34m\u001b[0m\u001b[0;34m\u001b[0m\u001b[0m\n",
            "\u001b[0;32m<ipython-input-85-114d100995d7>\u001b[0m in \u001b[0;36mavaliar\u001b[0;34m(entrada, saida)\u001b[0m\n\u001b[1;32m      3\u001b[0m \u001b[0;34m\u001b[0m\u001b[0m\n\u001b[1;32m      4\u001b[0m     \u001b[0msaida_encoder\u001b[0m\u001b[0;34m,\u001b[0m \u001b[0mestados_encoder\u001b[0m \u001b[0;34m=\u001b[0m \u001b[0mencoder\u001b[0m\u001b[0;34m(\u001b[0m\u001b[0mentrada\u001b[0m\u001b[0;34m,\u001b[0m \u001b[0mtraining\u001b[0m \u001b[0;34m=\u001b[0m \u001b[0;32mFalse\u001b[0m\u001b[0;34m)\u001b[0m\u001b[0;34m\u001b[0m\u001b[0;34m\u001b[0m\u001b[0m\n\u001b[0;32m----> 5\u001b[0;31m     \u001b[0msaida_decoder\u001b[0m\u001b[0;34m,\u001b[0m \u001b[0mperda\u001b[0m \u001b[0;34m=\u001b[0m \u001b[0mdecoder\u001b[0m\u001b[0;34m(\u001b[0m\u001b[0msaida\u001b[0m\u001b[0;34m,\u001b[0m \u001b[0msaida_encoder\u001b[0m\u001b[0;34m,\u001b[0m \u001b[0mestados_encoder\u001b[0m\u001b[0;34m,\u001b[0m \u001b[0mtraining\u001b[0m \u001b[0;34m=\u001b[0m \u001b[0;32mFalse\u001b[0m\u001b[0;34m)\u001b[0m\u001b[0;34m\u001b[0m\u001b[0;34m\u001b[0m\u001b[0m\n\u001b[0m\u001b[1;32m      6\u001b[0m \u001b[0;34m\u001b[0m\u001b[0m\n\u001b[1;32m      7\u001b[0m     \u001b[0;32mreturn\u001b[0m \u001b[0mperda\u001b[0m\u001b[0;34m,\u001b[0m \u001b[0msaida_decoder\u001b[0m\u001b[0;34m\u001b[0m\u001b[0;34m\u001b[0m\u001b[0m\n",
            "\u001b[0;32m/usr/local/lib/python3.6/dist-packages/tensorflow/python/keras/engine/base_layer.py\u001b[0m in \u001b[0;36m__call__\u001b[0;34m(self, *args, **kwargs)\u001b[0m\n\u001b[1;32m    983\u001b[0m \u001b[0;34m\u001b[0m\u001b[0m\n\u001b[1;32m    984\u001b[0m         \u001b[0;32mwith\u001b[0m \u001b[0mops\u001b[0m\u001b[0;34m.\u001b[0m\u001b[0menable_auto_cast_variables\u001b[0m\u001b[0;34m(\u001b[0m\u001b[0mself\u001b[0m\u001b[0;34m.\u001b[0m\u001b[0m_compute_dtype_object\u001b[0m\u001b[0;34m)\u001b[0m\u001b[0;34m:\u001b[0m\u001b[0;34m\u001b[0m\u001b[0;34m\u001b[0m\u001b[0m\n\u001b[0;32m--> 985\u001b[0;31m           \u001b[0moutputs\u001b[0m \u001b[0;34m=\u001b[0m \u001b[0mcall_fn\u001b[0m\u001b[0;34m(\u001b[0m\u001b[0minputs\u001b[0m\u001b[0;34m,\u001b[0m \u001b[0;34m*\u001b[0m\u001b[0margs\u001b[0m\u001b[0;34m,\u001b[0m \u001b[0;34m**\u001b[0m\u001b[0mkwargs\u001b[0m\u001b[0;34m)\u001b[0m\u001b[0;34m\u001b[0m\u001b[0;34m\u001b[0m\u001b[0m\n\u001b[0m\u001b[1;32m    986\u001b[0m \u001b[0;34m\u001b[0m\u001b[0m\n\u001b[1;32m    987\u001b[0m         \u001b[0;32mif\u001b[0m \u001b[0mself\u001b[0m\u001b[0;34m.\u001b[0m\u001b[0m_activity_regularizer\u001b[0m\u001b[0;34m:\u001b[0m\u001b[0;34m\u001b[0m\u001b[0;34m\u001b[0m\u001b[0m\n",
            "\u001b[0;32m<ipython-input-72-d3d5d9d13e0d>\u001b[0m in \u001b[0;36mcall\u001b[0;34m(self, inputs, saida_decoder, estado_final_anterior, training)\u001b[0m\n\u001b[1;32m     94\u001b[0m             \u001b[0;32mfor\u001b[0m \u001b[0m_\u001b[0m \u001b[0;32min\u001b[0m \u001b[0mrange\u001b[0m\u001b[0;34m(\u001b[0m\u001b[0minputs\u001b[0m\u001b[0;34m.\u001b[0m\u001b[0mshape\u001b[0m\u001b[0;34m[\u001b[0m\u001b[0;36m1\u001b[0m\u001b[0;34m]\u001b[0m\u001b[0;34m)\u001b[0m\u001b[0;34m:\u001b[0m\u001b[0;34m\u001b[0m\u001b[0;34m\u001b[0m\u001b[0m\n\u001b[1;32m     95\u001b[0m                 \u001b[0mmascara\u001b[0m \u001b[0;34m=\u001b[0m \u001b[0mself\u001b[0m\u001b[0;34m.\u001b[0m\u001b[0membedding\u001b[0m\u001b[0;34m.\u001b[0m\u001b[0mcompute_mask\u001b[0m\u001b[0;34m(\u001b[0m\u001b[0mx\u001b[0m\u001b[0;34m)\u001b[0m \u001b[0;31m# Usando máscara para a rede recorrente ignorar os zeros\u001b[0m\u001b[0;34m\u001b[0m\u001b[0;34m\u001b[0m\u001b[0m\n\u001b[0;32m---> 96\u001b[0;31m                 \u001b[0mx\u001b[0m \u001b[0;34m=\u001b[0m \u001b[0mself\u001b[0m\u001b[0;34m.\u001b[0m\u001b[0membedding\u001b[0m\u001b[0;34m(\u001b[0m\u001b[0mx\u001b[0m\u001b[0;34m)\u001b[0m\u001b[0;34m\u001b[0m\u001b[0;34m\u001b[0m\u001b[0m\n\u001b[0m\u001b[1;32m     97\u001b[0m                 x, estado_final = self.decode(x, \n\u001b[1;32m     98\u001b[0m                                               \u001b[0mestado_final\u001b[0m\u001b[0;34m,\u001b[0m\u001b[0;34m\u001b[0m\u001b[0;34m\u001b[0m\u001b[0m\n",
            "\u001b[0;32m/usr/local/lib/python3.6/dist-packages/tensorflow/python/keras/engine/base_layer.py\u001b[0m in \u001b[0;36m__call__\u001b[0;34m(self, *args, **kwargs)\u001b[0m\n\u001b[1;32m    983\u001b[0m \u001b[0;34m\u001b[0m\u001b[0m\n\u001b[1;32m    984\u001b[0m         \u001b[0;32mwith\u001b[0m \u001b[0mops\u001b[0m\u001b[0;34m.\u001b[0m\u001b[0menable_auto_cast_variables\u001b[0m\u001b[0;34m(\u001b[0m\u001b[0mself\u001b[0m\u001b[0;34m.\u001b[0m\u001b[0m_compute_dtype_object\u001b[0m\u001b[0;34m)\u001b[0m\u001b[0;34m:\u001b[0m\u001b[0;34m\u001b[0m\u001b[0;34m\u001b[0m\u001b[0m\n\u001b[0;32m--> 985\u001b[0;31m           \u001b[0moutputs\u001b[0m \u001b[0;34m=\u001b[0m \u001b[0mcall_fn\u001b[0m\u001b[0;34m(\u001b[0m\u001b[0minputs\u001b[0m\u001b[0;34m,\u001b[0m \u001b[0;34m*\u001b[0m\u001b[0margs\u001b[0m\u001b[0;34m,\u001b[0m \u001b[0;34m**\u001b[0m\u001b[0mkwargs\u001b[0m\u001b[0;34m)\u001b[0m\u001b[0;34m\u001b[0m\u001b[0;34m\u001b[0m\u001b[0m\n\u001b[0m\u001b[1;32m    986\u001b[0m \u001b[0;34m\u001b[0m\u001b[0m\n\u001b[1;32m    987\u001b[0m         \u001b[0;32mif\u001b[0m \u001b[0mself\u001b[0m\u001b[0;34m.\u001b[0m\u001b[0m_activity_regularizer\u001b[0m\u001b[0;34m:\u001b[0m\u001b[0;34m\u001b[0m\u001b[0;34m\u001b[0m\u001b[0m\n",
            "\u001b[0;32m/usr/local/lib/python3.6/dist-packages/tensorflow/python/keras/layers/embeddings.py\u001b[0m in \u001b[0;36mcall\u001b[0;34m(self, inputs)\u001b[0m\n\u001b[1;32m    187\u001b[0m       \u001b[0mout\u001b[0m \u001b[0;34m=\u001b[0m \u001b[0membedding_ops\u001b[0m\u001b[0;34m.\u001b[0m\u001b[0membedding_lookup_v2\u001b[0m\u001b[0;34m(\u001b[0m\u001b[0mself\u001b[0m\u001b[0;34m.\u001b[0m\u001b[0membeddings\u001b[0m\u001b[0;34m.\u001b[0m\u001b[0mvariables\u001b[0m\u001b[0;34m,\u001b[0m \u001b[0minputs\u001b[0m\u001b[0;34m)\u001b[0m\u001b[0;34m\u001b[0m\u001b[0;34m\u001b[0m\u001b[0m\n\u001b[1;32m    188\u001b[0m     \u001b[0;32melse\u001b[0m\u001b[0;34m:\u001b[0m\u001b[0;34m\u001b[0m\u001b[0;34m\u001b[0m\u001b[0m\n\u001b[0;32m--> 189\u001b[0;31m       \u001b[0mout\u001b[0m \u001b[0;34m=\u001b[0m \u001b[0membedding_ops\u001b[0m\u001b[0;34m.\u001b[0m\u001b[0membedding_lookup_v2\u001b[0m\u001b[0;34m(\u001b[0m\u001b[0mself\u001b[0m\u001b[0;34m.\u001b[0m\u001b[0membeddings\u001b[0m\u001b[0;34m,\u001b[0m \u001b[0minputs\u001b[0m\u001b[0;34m)\u001b[0m\u001b[0;34m\u001b[0m\u001b[0;34m\u001b[0m\u001b[0m\n\u001b[0m\u001b[1;32m    190\u001b[0m     \u001b[0;32mreturn\u001b[0m \u001b[0mout\u001b[0m\u001b[0;34m\u001b[0m\u001b[0;34m\u001b[0m\u001b[0m\n\u001b[1;32m    191\u001b[0m \u001b[0;34m\u001b[0m\u001b[0m\n",
            "\u001b[0;32m/usr/local/lib/python3.6/dist-packages/tensorflow/python/util/dispatch.py\u001b[0m in \u001b[0;36mwrapper\u001b[0;34m(*args, **kwargs)\u001b[0m\n\u001b[1;32m    199\u001b[0m     \u001b[0;34m\"\"\"Call target, and fall back on dispatchers if there is a TypeError.\"\"\"\u001b[0m\u001b[0;34m\u001b[0m\u001b[0;34m\u001b[0m\u001b[0m\n\u001b[1;32m    200\u001b[0m     \u001b[0;32mtry\u001b[0m\u001b[0;34m:\u001b[0m\u001b[0;34m\u001b[0m\u001b[0;34m\u001b[0m\u001b[0m\n\u001b[0;32m--> 201\u001b[0;31m       \u001b[0;32mreturn\u001b[0m \u001b[0mtarget\u001b[0m\u001b[0;34m(\u001b[0m\u001b[0;34m*\u001b[0m\u001b[0margs\u001b[0m\u001b[0;34m,\u001b[0m \u001b[0;34m**\u001b[0m\u001b[0mkwargs\u001b[0m\u001b[0;34m)\u001b[0m\u001b[0;34m\u001b[0m\u001b[0;34m\u001b[0m\u001b[0m\n\u001b[0m\u001b[1;32m    202\u001b[0m     \u001b[0;32mexcept\u001b[0m \u001b[0;34m(\u001b[0m\u001b[0mTypeError\u001b[0m\u001b[0;34m,\u001b[0m \u001b[0mValueError\u001b[0m\u001b[0;34m)\u001b[0m\u001b[0;34m:\u001b[0m\u001b[0;34m\u001b[0m\u001b[0;34m\u001b[0m\u001b[0m\n\u001b[1;32m    203\u001b[0m       \u001b[0;31m# Note: convert_to_eager_tensor currently raises a ValueError, not a\u001b[0m\u001b[0;34m\u001b[0m\u001b[0;34m\u001b[0m\u001b[0;34m\u001b[0m\u001b[0m\n",
            "\u001b[0;32m/usr/local/lib/python3.6/dist-packages/tensorflow/python/ops/embedding_ops.py\u001b[0m in \u001b[0;36membedding_lookup_v2\u001b[0;34m(params, ids, max_norm, name)\u001b[0m\n\u001b[1;32m    392\u001b[0m     \u001b[0mValueError\u001b[0m\u001b[0;34m:\u001b[0m \u001b[0mIf\u001b[0m\u001b[0;31m \u001b[0m\u001b[0;31m`\u001b[0m\u001b[0mparams\u001b[0m\u001b[0;31m`\u001b[0m \u001b[0;32mis\u001b[0m \u001b[0mempty\u001b[0m\u001b[0;34m.\u001b[0m\u001b[0;34m\u001b[0m\u001b[0;34m\u001b[0m\u001b[0m\n\u001b[1;32m    393\u001b[0m   \"\"\"\n\u001b[0;32m--> 394\u001b[0;31m   \u001b[0;32mreturn\u001b[0m \u001b[0membedding_lookup\u001b[0m\u001b[0;34m(\u001b[0m\u001b[0mparams\u001b[0m\u001b[0;34m,\u001b[0m \u001b[0mids\u001b[0m\u001b[0;34m,\u001b[0m \u001b[0;34m\"div\"\u001b[0m\u001b[0;34m,\u001b[0m \u001b[0mname\u001b[0m\u001b[0;34m,\u001b[0m \u001b[0mmax_norm\u001b[0m\u001b[0;34m=\u001b[0m\u001b[0mmax_norm\u001b[0m\u001b[0;34m)\u001b[0m\u001b[0;34m\u001b[0m\u001b[0;34m\u001b[0m\u001b[0m\n\u001b[0m\u001b[1;32m    395\u001b[0m \u001b[0;34m\u001b[0m\u001b[0m\n\u001b[1;32m    396\u001b[0m \u001b[0;34m\u001b[0m\u001b[0m\n",
            "\u001b[0;32m/usr/local/lib/python3.6/dist-packages/tensorflow/python/util/dispatch.py\u001b[0m in \u001b[0;36mwrapper\u001b[0;34m(*args, **kwargs)\u001b[0m\n\u001b[1;32m    199\u001b[0m     \u001b[0;34m\"\"\"Call target, and fall back on dispatchers if there is a TypeError.\"\"\"\u001b[0m\u001b[0;34m\u001b[0m\u001b[0;34m\u001b[0m\u001b[0m\n\u001b[1;32m    200\u001b[0m     \u001b[0;32mtry\u001b[0m\u001b[0;34m:\u001b[0m\u001b[0;34m\u001b[0m\u001b[0;34m\u001b[0m\u001b[0m\n\u001b[0;32m--> 201\u001b[0;31m       \u001b[0;32mreturn\u001b[0m \u001b[0mtarget\u001b[0m\u001b[0;34m(\u001b[0m\u001b[0;34m*\u001b[0m\u001b[0margs\u001b[0m\u001b[0;34m,\u001b[0m \u001b[0;34m**\u001b[0m\u001b[0mkwargs\u001b[0m\u001b[0;34m)\u001b[0m\u001b[0;34m\u001b[0m\u001b[0;34m\u001b[0m\u001b[0m\n\u001b[0m\u001b[1;32m    202\u001b[0m     \u001b[0;32mexcept\u001b[0m \u001b[0;34m(\u001b[0m\u001b[0mTypeError\u001b[0m\u001b[0;34m,\u001b[0m \u001b[0mValueError\u001b[0m\u001b[0;34m)\u001b[0m\u001b[0;34m:\u001b[0m\u001b[0;34m\u001b[0m\u001b[0;34m\u001b[0m\u001b[0m\n\u001b[1;32m    203\u001b[0m       \u001b[0;31m# Note: convert_to_eager_tensor currently raises a ValueError, not a\u001b[0m\u001b[0;34m\u001b[0m\u001b[0;34m\u001b[0m\u001b[0;34m\u001b[0m\u001b[0m\n",
            "\u001b[0;32m/usr/local/lib/python3.6/dist-packages/tensorflow/python/ops/embedding_ops.py\u001b[0m in \u001b[0;36membedding_lookup\u001b[0;34m(params, ids, partition_strategy, name, validate_indices, max_norm)\u001b[0m\n\u001b[1;32m    326\u001b[0m       \u001b[0mname\u001b[0m\u001b[0;34m=\u001b[0m\u001b[0mname\u001b[0m\u001b[0;34m,\u001b[0m\u001b[0;34m\u001b[0m\u001b[0;34m\u001b[0m\u001b[0m\n\u001b[1;32m    327\u001b[0m       \u001b[0mmax_norm\u001b[0m\u001b[0;34m=\u001b[0m\u001b[0mmax_norm\u001b[0m\u001b[0;34m,\u001b[0m\u001b[0;34m\u001b[0m\u001b[0;34m\u001b[0m\u001b[0m\n\u001b[0;32m--> 328\u001b[0;31m       transform_fn=None)\n\u001b[0m\u001b[1;32m    329\u001b[0m \u001b[0;34m\u001b[0m\u001b[0m\n\u001b[1;32m    330\u001b[0m \u001b[0;34m\u001b[0m\u001b[0m\n",
            "\u001b[0;32m/usr/local/lib/python3.6/dist-packages/tensorflow/python/ops/embedding_ops.py\u001b[0m in \u001b[0;36m_embedding_lookup_and_transform\u001b[0;34m(params, ids, partition_strategy, name, max_norm, transform_fn)\u001b[0m\n\u001b[1;32m    131\u001b[0m     if not any(\n\u001b[1;32m    132\u001b[0m         isinstance(p, resource_variable_ops.ResourceVariable) for p in params):\n\u001b[0;32m--> 133\u001b[0;31m       \u001b[0mparams\u001b[0m \u001b[0;34m=\u001b[0m \u001b[0mops\u001b[0m\u001b[0;34m.\u001b[0m\u001b[0mconvert_n_to_tensor_or_indexed_slices\u001b[0m\u001b[0;34m(\u001b[0m\u001b[0mparams\u001b[0m\u001b[0;34m,\u001b[0m \u001b[0mname\u001b[0m\u001b[0;34m=\u001b[0m\u001b[0;34m\"params\"\u001b[0m\u001b[0;34m)\u001b[0m\u001b[0;34m\u001b[0m\u001b[0;34m\u001b[0m\u001b[0m\n\u001b[0m\u001b[1;32m    134\u001b[0m     \u001b[0mids\u001b[0m \u001b[0;34m=\u001b[0m \u001b[0mops\u001b[0m\u001b[0;34m.\u001b[0m\u001b[0mconvert_to_tensor\u001b[0m\u001b[0;34m(\u001b[0m\u001b[0mids\u001b[0m\u001b[0;34m,\u001b[0m \u001b[0mname\u001b[0m\u001b[0;34m=\u001b[0m\u001b[0;34m\"ids\"\u001b[0m\u001b[0;34m)\u001b[0m\u001b[0;34m\u001b[0m\u001b[0;34m\u001b[0m\u001b[0m\n\u001b[1;32m    135\u001b[0m     \u001b[0;32mif\u001b[0m \u001b[0mnp\u001b[0m \u001b[0;34m==\u001b[0m \u001b[0;36m1\u001b[0m \u001b[0;32mand\u001b[0m \u001b[0;34m(\u001b[0m\u001b[0;32mnot\u001b[0m \u001b[0mtransform_fn\u001b[0m \u001b[0;32mor\u001b[0m \u001b[0mids\u001b[0m\u001b[0;34m.\u001b[0m\u001b[0mget_shape\u001b[0m\u001b[0;34m(\u001b[0m\u001b[0;34m)\u001b[0m\u001b[0;34m.\u001b[0m\u001b[0mndims\u001b[0m \u001b[0;34m==\u001b[0m \u001b[0;36m1\u001b[0m\u001b[0;34m)\u001b[0m\u001b[0;34m:\u001b[0m\u001b[0;34m\u001b[0m\u001b[0;34m\u001b[0m\u001b[0m\n",
            "\u001b[0;32m/usr/local/lib/python3.6/dist-packages/tensorflow/python/framework/indexed_slices.py\u001b[0m in \u001b[0;36mconvert_n_to_tensor_or_indexed_slices\u001b[0;34m(values, dtype, name)\u001b[0m\n\u001b[1;32m    383\u001b[0m   \"\"\"\n\u001b[1;32m    384\u001b[0m   return internal_convert_n_to_tensor_or_indexed_slices(\n\u001b[0;32m--> 385\u001b[0;31m       values=values, dtype=dtype, name=name, as_ref=False)\n\u001b[0m\u001b[1;32m    386\u001b[0m \u001b[0;34m\u001b[0m\u001b[0m\n\u001b[1;32m    387\u001b[0m \u001b[0;34m\u001b[0m\u001b[0m\n",
            "\u001b[0;32m/usr/local/lib/python3.6/dist-packages/tensorflow/python/framework/indexed_slices.py\u001b[0m in \u001b[0;36minternal_convert_n_to_tensor_or_indexed_slices\u001b[0;34m(values, dtype, name, as_ref)\u001b[0m\n\u001b[1;32m    355\u001b[0m       ret.append(\n\u001b[1;32m    356\u001b[0m           internal_convert_to_tensor_or_indexed_slices(\n\u001b[0;32m--> 357\u001b[0;31m               value, dtype=dtype, name=n, as_ref=as_ref))\n\u001b[0m\u001b[1;32m    358\u001b[0m   \u001b[0;32mreturn\u001b[0m \u001b[0mret\u001b[0m\u001b[0;34m\u001b[0m\u001b[0;34m\u001b[0m\u001b[0m\n\u001b[1;32m    359\u001b[0m \u001b[0;34m\u001b[0m\u001b[0m\n",
            "\u001b[0;32m/usr/local/lib/python3.6/dist-packages/tensorflow/python/framework/indexed_slices.py\u001b[0m in \u001b[0;36minternal_convert_to_tensor_or_indexed_slices\u001b[0;34m(value, dtype, name, as_ref)\u001b[0m\n\u001b[1;32m    315\u001b[0m     \u001b[0;32mreturn\u001b[0m \u001b[0mvalue\u001b[0m\u001b[0;34m\u001b[0m\u001b[0;34m\u001b[0m\u001b[0m\n\u001b[1;32m    316\u001b[0m   \u001b[0;32melse\u001b[0m\u001b[0;34m:\u001b[0m\u001b[0;34m\u001b[0m\u001b[0;34m\u001b[0m\u001b[0m\n\u001b[0;32m--> 317\u001b[0;31m     \u001b[0;32mreturn\u001b[0m \u001b[0mops\u001b[0m\u001b[0;34m.\u001b[0m\u001b[0mconvert_to_tensor\u001b[0m\u001b[0;34m(\u001b[0m\u001b[0mvalue\u001b[0m\u001b[0;34m,\u001b[0m \u001b[0mdtype\u001b[0m\u001b[0;34m=\u001b[0m\u001b[0mdtype\u001b[0m\u001b[0;34m,\u001b[0m \u001b[0mname\u001b[0m\u001b[0;34m=\u001b[0m\u001b[0mname\u001b[0m\u001b[0;34m,\u001b[0m \u001b[0mas_ref\u001b[0m\u001b[0;34m=\u001b[0m\u001b[0mas_ref\u001b[0m\u001b[0;34m)\u001b[0m\u001b[0;34m\u001b[0m\u001b[0;34m\u001b[0m\u001b[0m\n\u001b[0m\u001b[1;32m    318\u001b[0m \u001b[0;34m\u001b[0m\u001b[0m\n\u001b[1;32m    319\u001b[0m \u001b[0;34m\u001b[0m\u001b[0m\n",
            "\u001b[0;32m/usr/local/lib/python3.6/dist-packages/tensorflow/python/framework/ops.py\u001b[0m in \u001b[0;36mconvert_to_tensor\u001b[0;34m(value, dtype, name, as_ref, preferred_dtype, dtype_hint, ctx, accepted_result_types)\u001b[0m\n\u001b[1;32m   1497\u001b[0m \u001b[0;34m\u001b[0m\u001b[0m\n\u001b[1;32m   1498\u001b[0m     \u001b[0;32mif\u001b[0m \u001b[0mret\u001b[0m \u001b[0;32mis\u001b[0m \u001b[0;32mNone\u001b[0m\u001b[0;34m:\u001b[0m\u001b[0;34m\u001b[0m\u001b[0;34m\u001b[0m\u001b[0m\n\u001b[0;32m-> 1499\u001b[0;31m       \u001b[0mret\u001b[0m \u001b[0;34m=\u001b[0m \u001b[0mconversion_func\u001b[0m\u001b[0;34m(\u001b[0m\u001b[0mvalue\u001b[0m\u001b[0;34m,\u001b[0m \u001b[0mdtype\u001b[0m\u001b[0;34m=\u001b[0m\u001b[0mdtype\u001b[0m\u001b[0;34m,\u001b[0m \u001b[0mname\u001b[0m\u001b[0;34m=\u001b[0m\u001b[0mname\u001b[0m\u001b[0;34m,\u001b[0m \u001b[0mas_ref\u001b[0m\u001b[0;34m=\u001b[0m\u001b[0mas_ref\u001b[0m\u001b[0;34m)\u001b[0m\u001b[0;34m\u001b[0m\u001b[0;34m\u001b[0m\u001b[0m\n\u001b[0m\u001b[1;32m   1500\u001b[0m \u001b[0;34m\u001b[0m\u001b[0m\n\u001b[1;32m   1501\u001b[0m     \u001b[0;32mif\u001b[0m \u001b[0mret\u001b[0m \u001b[0;32mis\u001b[0m \u001b[0mNotImplemented\u001b[0m\u001b[0;34m:\u001b[0m\u001b[0;34m\u001b[0m\u001b[0;34m\u001b[0m\u001b[0m\n",
            "\u001b[0;32m/usr/local/lib/python3.6/dist-packages/tensorflow/python/ops/resource_variable_ops.py\u001b[0m in \u001b[0;36m_dense_var_to_tensor\u001b[0;34m(var, dtype, name, as_ref)\u001b[0m\n\u001b[1;32m   1907\u001b[0m \u001b[0;34m\u001b[0m\u001b[0m\n\u001b[1;32m   1908\u001b[0m \u001b[0;32mdef\u001b[0m \u001b[0m_dense_var_to_tensor\u001b[0m\u001b[0;34m(\u001b[0m\u001b[0mvar\u001b[0m\u001b[0;34m,\u001b[0m \u001b[0mdtype\u001b[0m\u001b[0;34m=\u001b[0m\u001b[0;32mNone\u001b[0m\u001b[0;34m,\u001b[0m \u001b[0mname\u001b[0m\u001b[0;34m=\u001b[0m\u001b[0;32mNone\u001b[0m\u001b[0;34m,\u001b[0m \u001b[0mas_ref\u001b[0m\u001b[0;34m=\u001b[0m\u001b[0;32mFalse\u001b[0m\u001b[0;34m)\u001b[0m\u001b[0;34m:\u001b[0m\u001b[0;34m\u001b[0m\u001b[0;34m\u001b[0m\u001b[0m\n\u001b[0;32m-> 1909\u001b[0;31m   \u001b[0;32mreturn\u001b[0m \u001b[0mvar\u001b[0m\u001b[0;34m.\u001b[0m\u001b[0m_dense_var_to_tensor\u001b[0m\u001b[0;34m(\u001b[0m\u001b[0mdtype\u001b[0m\u001b[0;34m=\u001b[0m\u001b[0mdtype\u001b[0m\u001b[0;34m,\u001b[0m \u001b[0mname\u001b[0m\u001b[0;34m=\u001b[0m\u001b[0mname\u001b[0m\u001b[0;34m,\u001b[0m \u001b[0mas_ref\u001b[0m\u001b[0;34m=\u001b[0m\u001b[0mas_ref\u001b[0m\u001b[0;34m)\u001b[0m  \u001b[0;31m# pylint: disable=protected-access\u001b[0m\u001b[0;34m\u001b[0m\u001b[0;34m\u001b[0m\u001b[0m\n\u001b[0m\u001b[1;32m   1910\u001b[0m \u001b[0;34m\u001b[0m\u001b[0m\n\u001b[1;32m   1911\u001b[0m \u001b[0;34m\u001b[0m\u001b[0m\n",
            "\u001b[0;32m/usr/local/lib/python3.6/dist-packages/tensorflow/python/ops/resource_variable_ops.py\u001b[0m in \u001b[0;36m_dense_var_to_tensor\u001b[0;34m(***failed resolving arguments***)\u001b[0m\n\u001b[1;32m   1324\u001b[0m       \u001b[0;32mreturn\u001b[0m \u001b[0mself\u001b[0m\u001b[0;34m.\u001b[0m\u001b[0mread_value\u001b[0m\u001b[0;34m(\u001b[0m\u001b[0;34m)\u001b[0m\u001b[0;34m.\u001b[0m\u001b[0mop\u001b[0m\u001b[0;34m.\u001b[0m\u001b[0minputs\u001b[0m\u001b[0;34m[\u001b[0m\u001b[0;36m0\u001b[0m\u001b[0;34m]\u001b[0m\u001b[0;34m\u001b[0m\u001b[0;34m\u001b[0m\u001b[0m\n\u001b[1;32m   1325\u001b[0m     \u001b[0;32melse\u001b[0m\u001b[0;34m:\u001b[0m\u001b[0;34m\u001b[0m\u001b[0;34m\u001b[0m\u001b[0m\n\u001b[0;32m-> 1326\u001b[0;31m       \u001b[0;32mreturn\u001b[0m \u001b[0mself\u001b[0m\u001b[0;34m.\u001b[0m\u001b[0mvalue\u001b[0m\u001b[0;34m(\u001b[0m\u001b[0;34m)\u001b[0m\u001b[0;34m\u001b[0m\u001b[0;34m\u001b[0m\u001b[0m\n\u001b[0m\u001b[1;32m   1327\u001b[0m \u001b[0;34m\u001b[0m\u001b[0m\n\u001b[1;32m   1328\u001b[0m   \u001b[0;32mdef\u001b[0m \u001b[0m__iadd__\u001b[0m\u001b[0;34m(\u001b[0m\u001b[0mself\u001b[0m\u001b[0;34m,\u001b[0m \u001b[0munused_other\u001b[0m\u001b[0;34m)\u001b[0m\u001b[0;34m:\u001b[0m\u001b[0;34m\u001b[0m\u001b[0;34m\u001b[0m\u001b[0m\n",
            "\u001b[0;32m/usr/local/lib/python3.6/dist-packages/tensorflow/python/ops/resource_variable_ops.py\u001b[0m in \u001b[0;36mvalue\u001b[0;34m(self)\u001b[0m\n\u001b[1;32m    553\u001b[0m       \u001b[0;32mreturn\u001b[0m \u001b[0mself\u001b[0m\u001b[0;34m.\u001b[0m\u001b[0m_cached_value\u001b[0m\u001b[0;34m\u001b[0m\u001b[0;34m\u001b[0m\u001b[0m\n\u001b[1;32m    554\u001b[0m     \u001b[0;32mwith\u001b[0m \u001b[0mops\u001b[0m\u001b[0;34m.\u001b[0m\u001b[0mcolocate_with\u001b[0m\u001b[0;34m(\u001b[0m\u001b[0;32mNone\u001b[0m\u001b[0;34m,\u001b[0m \u001b[0mignore_existing\u001b[0m\u001b[0;34m=\u001b[0m\u001b[0;32mTrue\u001b[0m\u001b[0;34m)\u001b[0m\u001b[0;34m:\u001b[0m\u001b[0;34m\u001b[0m\u001b[0;34m\u001b[0m\u001b[0m\n\u001b[0;32m--> 555\u001b[0;31m       \u001b[0;32mreturn\u001b[0m \u001b[0mself\u001b[0m\u001b[0;34m.\u001b[0m\u001b[0m_read_variable_op\u001b[0m\u001b[0;34m(\u001b[0m\u001b[0;34m)\u001b[0m\u001b[0;34m\u001b[0m\u001b[0;34m\u001b[0m\u001b[0m\n\u001b[0m\u001b[1;32m    556\u001b[0m \u001b[0;34m\u001b[0m\u001b[0m\n\u001b[1;32m    557\u001b[0m   \u001b[0;32mdef\u001b[0m \u001b[0m_as_graph_element\u001b[0m\u001b[0;34m(\u001b[0m\u001b[0mself\u001b[0m\u001b[0;34m)\u001b[0m\u001b[0;34m:\u001b[0m\u001b[0;34m\u001b[0m\u001b[0;34m\u001b[0m\u001b[0m\n",
            "\u001b[0;32m/usr/local/lib/python3.6/dist-packages/tensorflow/python/ops/resource_variable_ops.py\u001b[0m in \u001b[0;36m_read_variable_op\u001b[0;34m(self)\u001b[0m\n\u001b[1;32m    655\u001b[0m           \u001b[0mresult\u001b[0m \u001b[0;34m=\u001b[0m \u001b[0mread_and_set_handle\u001b[0m\u001b[0;34m(\u001b[0m\u001b[0;34m)\u001b[0m\u001b[0;34m\u001b[0m\u001b[0;34m\u001b[0m\u001b[0m\n\u001b[1;32m    656\u001b[0m     \u001b[0;32melse\u001b[0m\u001b[0;34m:\u001b[0m\u001b[0;34m\u001b[0m\u001b[0;34m\u001b[0m\u001b[0m\n\u001b[0;32m--> 657\u001b[0;31m       \u001b[0mresult\u001b[0m \u001b[0;34m=\u001b[0m \u001b[0mread_and_set_handle\u001b[0m\u001b[0;34m(\u001b[0m\u001b[0;34m)\u001b[0m\u001b[0;34m\u001b[0m\u001b[0;34m\u001b[0m\u001b[0m\n\u001b[0m\u001b[1;32m    658\u001b[0m \u001b[0;34m\u001b[0m\u001b[0m\n\u001b[1;32m    659\u001b[0m     \u001b[0;32mif\u001b[0m \u001b[0;32mnot\u001b[0m \u001b[0mcontext\u001b[0m\u001b[0;34m.\u001b[0m\u001b[0mexecuting_eagerly\u001b[0m\u001b[0;34m(\u001b[0m\u001b[0;34m)\u001b[0m\u001b[0;34m:\u001b[0m\u001b[0;34m\u001b[0m\u001b[0;34m\u001b[0m\u001b[0m\n",
            "\u001b[0;32m/usr/local/lib/python3.6/dist-packages/tensorflow/python/ops/resource_variable_ops.py\u001b[0m in \u001b[0;36mread_and_set_handle\u001b[0;34m()\u001b[0m\n\u001b[1;32m    646\u001b[0m     \u001b[0;32mdef\u001b[0m \u001b[0mread_and_set_handle\u001b[0m\u001b[0;34m(\u001b[0m\u001b[0;34m)\u001b[0m\u001b[0;34m:\u001b[0m\u001b[0;34m\u001b[0m\u001b[0;34m\u001b[0m\u001b[0m\n\u001b[1;32m    647\u001b[0m       result = gen_resource_variable_ops.read_variable_op(self._handle,\n\u001b[0;32m--> 648\u001b[0;31m                                                           self._dtype)\n\u001b[0m\u001b[1;32m    649\u001b[0m       \u001b[0m_maybe_set_handle_data\u001b[0m\u001b[0;34m(\u001b[0m\u001b[0mself\u001b[0m\u001b[0;34m.\u001b[0m\u001b[0m_dtype\u001b[0m\u001b[0;34m,\u001b[0m \u001b[0mself\u001b[0m\u001b[0;34m.\u001b[0m\u001b[0m_handle\u001b[0m\u001b[0;34m,\u001b[0m \u001b[0mresult\u001b[0m\u001b[0;34m)\u001b[0m\u001b[0;34m\u001b[0m\u001b[0;34m\u001b[0m\u001b[0m\n\u001b[1;32m    650\u001b[0m       \u001b[0;32mreturn\u001b[0m \u001b[0mresult\u001b[0m\u001b[0;34m\u001b[0m\u001b[0;34m\u001b[0m\u001b[0m\n",
            "\u001b[0;32m/usr/local/lib/python3.6/dist-packages/tensorflow/python/ops/gen_resource_variable_ops.py\u001b[0m in \u001b[0;36mread_variable_op\u001b[0;34m(resource, dtype, name)\u001b[0m\n\u001b[1;32m    475\u001b[0m       _result = pywrap_tfe.TFE_Py_FastPathExecute(\n\u001b[1;32m    476\u001b[0m         \u001b[0m_ctx\u001b[0m\u001b[0;34m.\u001b[0m\u001b[0m_context_handle\u001b[0m\u001b[0;34m,\u001b[0m \u001b[0mtld\u001b[0m\u001b[0;34m.\u001b[0m\u001b[0mdevice_name\u001b[0m\u001b[0;34m,\u001b[0m \u001b[0;34m\"ReadVariableOp\"\u001b[0m\u001b[0;34m,\u001b[0m \u001b[0mname\u001b[0m\u001b[0;34m,\u001b[0m\u001b[0;34m\u001b[0m\u001b[0;34m\u001b[0m\u001b[0m\n\u001b[0;32m--> 477\u001b[0;31m         tld.op_callbacks, resource, \"dtype\", dtype)\n\u001b[0m\u001b[1;32m    478\u001b[0m       \u001b[0;32mreturn\u001b[0m \u001b[0m_result\u001b[0m\u001b[0;34m\u001b[0m\u001b[0;34m\u001b[0m\u001b[0m\n\u001b[1;32m    479\u001b[0m     \u001b[0;32mexcept\u001b[0m \u001b[0m_core\u001b[0m\u001b[0;34m.\u001b[0m\u001b[0m_NotOkStatusException\u001b[0m \u001b[0;32mas\u001b[0m \u001b[0me\u001b[0m\u001b[0;34m:\u001b[0m\u001b[0;34m\u001b[0m\u001b[0;34m\u001b[0m\u001b[0m\n",
            "\u001b[0;31mKeyboardInterrupt\u001b[0m: "
          ]
        }
      ]
    },
    {
      "cell_type": "code",
      "metadata": {
        "id": "8WE2ErxBDCmK"
      },
      "source": [
        "perda, saida = avaliar(X_teste[:64], y_teste[:64])"
      ],
      "execution_count": null,
      "outputs": []
    },
    {
      "cell_type": "code",
      "metadata": {
        "id": "gS0_-GpesSRD"
      },
      "source": [
        "_, saida = avaliar(X_teste[:1], None)"
      ],
      "execution_count": null,
      "outputs": []
    },
    {
      "cell_type": "code",
      "metadata": {
        "colab": {
          "base_uri": "https://localhost:8080/"
        },
        "id": "I7c4QDQuEt1q",
        "outputId": "04dd6a53-3ae8-4272-e5ff-58bd1bec677c"
      },
      "source": [
        "traducao = ' '.join([dict_pt[index] for index in saida.numpy()[2]])\n",
        "original = ' '.join([dict_pt[index] for index in y_teste[2].numpy()])\n",
        "print(original)\n",
        "print(traducao)"
      ],
      "execution_count": null,
      "outputs": [
        {
          "output_type": "stream",
          "text": [
            "<inicio> recusando nos a criar um regime concorrencial , propusemos que se assegurasse a igualdade de abastecimento e fornecimento ao melhor preco , a igualdade de tratamento dos consumidores e a perequacao tarifaria . <fim>               \n",
            "a comissao europeia , a comissao , a comissao , a comissao , a comissao , a comissao , a comissao , a comissao , a comissao , a comissao , a comissao , a comissao , a comissao , a comissao , a comissao , a comissao ,\n"
          ],
          "name": "stdout"
        }
      ]
    },
    {
      "cell_type": "code",
      "metadata": {
        "colab": {
          "base_uri": "https://localhost:8080/"
        },
        "id": "5ThAn2pe3X9A",
        "outputId": "33e600e8-51e7-43bf-eb5d-906c55e0e18d"
      },
      "source": [
        "len([dict_pt[index] for index in saida.numpy()[0]])"
      ],
      "execution_count": null,
      "outputs": [
        {
          "output_type": "execute_result",
          "data": {
            "text/plain": [
              "49"
            ]
          },
          "metadata": {
            "tags": []
          },
          "execution_count": 94
        }
      ]
    },
    {
      "cell_type": "code",
      "metadata": {
        "colab": {
          "base_uri": "https://localhost:8080/"
        },
        "id": "4EfoAjYuF_-K",
        "outputId": "63f53c4e-fc02-4349-8684-58d8f387a943"
      },
      "source": [
        "calcular_bleu(tf.expand_dims(X_teste[0], axis = 0), tf.expand_dims(saida[0], axis = 0))"
      ],
      "execution_count": null,
      "outputs": [
        {
          "output_type": "execute_result",
          "data": {
            "text/plain": [
              "0.20492499184526708"
            ]
          },
          "metadata": {
            "tags": []
          },
          "execution_count": 98
        }
      ]
    }
  ]
}